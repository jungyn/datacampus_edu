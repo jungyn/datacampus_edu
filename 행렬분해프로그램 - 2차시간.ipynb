{
 "cells": [
  {
   "cell_type": "code",
   "execution_count": 1,
   "metadata": {},
   "outputs": [
    {
     "name": "stdout",
     "output_type": "stream",
     "text": [
      "[3 2]\n"
     ]
    }
   ],
   "source": [
    "import numpy as np\n",
    "\n",
    "# 주어진 행렬 A와 벡터 b 정의\n",
    "A = np.array([[1, 1],\n",
    "              [0, 1]])\n",
    "\n",
    "b = np.array([1, 2])\n",
    "\n",
    "# 행렬 A와 벡터 b의 곱 계산\n",
    "result = np.dot(A, b)\n",
    "\n",
    "# 결과 출력\n",
    "print(result)"
   ]
  },
  {
   "cell_type": "code",
   "execution_count": 2,
   "metadata": {},
   "outputs": [],
   "source": [
    "import numpy as np\n",
    "\n",
    "# 주어진 행렬 A 정의\n",
    "A = np.array([[1, 1],\n",
    "              [-2, 4]])\n",
    "\n",
    "# eigenvalue와 eigenvector 계산\n",
    "eigenvalues, eigenvectors = np.linalg.eig(A)"
   ]
  },
  {
   "cell_type": "code",
   "execution_count": 3,
   "metadata": {},
   "outputs": [
    {
     "name": "stdout",
     "output_type": "stream",
     "text": [
      "[2. 3.]\n"
     ]
    }
   ],
   "source": [
    "print(eigenvalues)"
   ]
  },
  {
   "cell_type": "code",
   "execution_count": 4,
   "metadata": {},
   "outputs": [
    {
     "name": "stdout",
     "output_type": "stream",
     "text": [
      "[[-0.70710678 -0.4472136 ]\n",
      " [-0.70710678 -0.89442719]]\n"
     ]
    }
   ],
   "source": [
    "print(eigenvectors)"
   ]
  },
  {
   "cell_type": "code",
   "execution_count": 5,
   "metadata": {},
   "outputs": [
    {
     "name": "stdout",
     "output_type": "stream",
     "text": [
      "Eigenvalue 1: 2.0\n",
      "Eigenvector 1: [-0.70710678 -0.70710678]\n",
      "\n",
      "Eigenvalue 2: 3.0\n",
      "Eigenvector 2: [-0.4472136  -0.89442719]\n",
      "\n"
     ]
    }
   ],
   "source": [
    "for i in range(len(eigenvalues)):\n",
    "    print(\"Eigenvalue {}: {}\".format(i+1, eigenvalues[i]))\n",
    "    print(\"Eigenvector {}: {}\".format(i+1, eigenvectors[:, i]))\n",
    "    print()"
   ]
  },
  {
   "cell_type": "code",
   "execution_count": 6,
   "metadata": {},
   "outputs": [
    {
     "name": "stdout",
     "output_type": "stream",
     "text": [
      "Eigenvalue 1: 3.4142135623730914\n",
      "Eigenvector 1: [-0.5         0.70710678 -0.5       ]\n",
      "\n",
      "Eigenvalue 2: 1.9999999999999998\n",
      "Eigenvector 2: [-7.07106781e-01  4.05405432e-16  7.07106781e-01]\n",
      "\n",
      "Eigenvalue 3: 0.5857864376269049\n",
      "Eigenvector 3: [0.5        0.70710678 0.5       ]\n",
      "\n"
     ]
    }
   ],
   "source": [
    "import numpy as np\n",
    "\n",
    "# 3차원 행렬 로  eigen 값 구하는 연습 (추가)\n",
    "A = np.array([[2, -1, 0],\n",
    "              [-1, 2, -1],\n",
    "              [0, -1, 2]])\n",
    "\n",
    "# 행렬 A의 고유값(eigenvalue)과 고유벡터(eigenvector) 계산\n",
    "eigenvalues, eigenvectors = np.linalg.eig(A)\n",
    "\n",
    "# 결과 출력\n",
    "for i in range(len(eigenvalues)):\n",
    "    print(\"Eigenvalue {}: {}\".format(i+1, eigenvalues[i]))\n",
    "    print(\"Eigenvector {}: {}\".format(i+1, eigenvectors[:, i]))\n",
    "    print()"
   ]
  },
  {
   "cell_type": "code",
   "execution_count": 7,
   "metadata": {},
   "outputs": [
    {
     "name": "stdout",
     "output_type": "stream",
     "text": [
      "Diagonalized Matrix:\n",
      "[[2. 0. 0.]\n",
      " [0. 1. 0.]\n",
      " [0. 0. 3.]]\n"
     ]
    }
   ],
   "source": [
    "import numpy as np\n",
    "\n",
    "# 주어진 행렬 A 정의\n",
    "A = np.array([[1, 2, 0],\n",
    "              [0, 3, 0],\n",
    "              [2, -4, 2]])\n",
    "\n",
    "# 행렬 A의 eigenvalue와 eigenvector 계산\n",
    "eigenvalues, eigenvectors = np.linalg.eig(A)\n",
    "\n",
    "# 대각 행렬 D 생성\n",
    "D = np.diag(eigenvalues)\n",
    "\n",
    "# 대각화된 행렬 계산\n",
    "A_diagonalized = np.dot(np.dot(np.linalg.inv(eigenvectors), A), eigenvectors)\n",
    "\n",
    "# 결과 출력\n",
    "print(\"Diagonalized Matrix:\")\n",
    "print(A_diagonalized)\n"
   ]
  },
  {
   "cell_type": "code",
   "execution_count": 8,
   "metadata": {},
   "outputs": [
    {
     "name": "stdout",
     "output_type": "stream",
     "text": [
      "First Matrix:\n",
      "[[6.4 3.2]\n",
      " [3.2 1.6]]\n",
      "\n",
      "Second Matrix:\n",
      "[[ 0.6 -1.2]\n",
      " [-1.2  2.4]]\n"
     ]
    }
   ],
   "source": [
    "import numpy as np\n",
    "\n",
    "# 주어진 행렬 A 정의\n",
    "A = np.array([[7, 2],\n",
    "              [2, 4]])\n",
    "\n",
    "# 행렬 A의 eigenvalue와 eigenvector 계산\n",
    "eigenvalues, eigenvectors = np.linalg.eig(A)\n",
    "\n",
    "# spectrum decomposition을 위한 대각 행렬 D 생성\n",
    "D = np.diag(eigenvalues)\n",
    "\n",
    "# 첫 번째 행렬로 쪼개지는 부분 계산\n",
    "first_matrix = np.outer(eigenvectors[:, 0], eigenvectors[:, 0]) * eigenvalues[0]\n",
    "\n",
    "# 두 번째 행렬로 쪼개지는 부분 계산\n",
    "second_matrix = np.outer(eigenvectors[:, 1], eigenvectors[:, 1]) * eigenvalues[1]\n",
    "\n",
    "# 결과 출력\n",
    "print(\"First Matrix:\")\n",
    "print(first_matrix)\n",
    "print()\n",
    "print(\"Second Matrix:\")\n",
    "print(second_matrix)"
   ]
  },
  {
   "cell_type": "code",
   "execution_count": 9,
   "metadata": {},
   "outputs": [
    {
     "name": "stdout",
     "output_type": "stream",
     "text": [
      "U:\n",
      "[[-0.62133091  0.11810122  0.77424974  0.02318059]\n",
      " [-0.36057233 -0.20350962 -0.28420481  0.86475375]\n",
      " [ 0.52151716 -0.64322168  0.5096361   0.23357388]\n",
      " [ 0.46038608  0.72863009  0.24502247  0.44396717]]\n",
      "S:\n",
      "[5.74997893 4.11554884]\n",
      "Vt:\n",
      "[[-0.74967818 -0.66180256]\n",
      " [ 0.66180256 -0.74967818]]\n"
     ]
    }
   ],
   "source": [
    "import numpy as np\n",
    "\n",
    "# 주어진 3차원 행렬 정의\n",
    "A = np.array([[3, 2],\n",
    "              [1, 2],\n",
    "              [-4, 0],\n",
    "              [0, -4]])\n",
    "\n",
    "# 행렬 A의 SVD(Singular Value Decomposition) 계산\n",
    "U, S, Vt = np.linalg.svd(A)\n",
    "\n",
    "# 결과 출력\n",
    "print(\"U:\")\n",
    "print(U)\n",
    "print(\"S:\")\n",
    "print(S)\n",
    "print(\"Vt:\")\n",
    "print(Vt)\n"
   ]
  },
  {
   "cell_type": "code",
   "execution_count": null,
   "metadata": {},
   "outputs": [],
   "source": []
  }
 ],
 "metadata": {
  "kernelspec": {
   "display_name": "Python 3",
   "language": "python",
   "name": "python3"
  },
  "language_info": {
   "codemirror_mode": {
    "name": "ipython",
    "version": 3
   },
   "file_extension": ".py",
   "mimetype": "text/x-python",
   "name": "python",
   "nbconvert_exporter": "python",
   "pygments_lexer": "ipython3",
   "version": "3.7.3"
  },
  "toc": {
   "base_numbering": 1,
   "nav_menu": {},
   "number_sections": true,
   "sideBar": true,
   "skip_h1_title": false,
   "title_cell": "Table of Contents",
   "title_sidebar": "Contents",
   "toc_cell": false,
   "toc_position": {},
   "toc_section_display": true,
   "toc_window_display": false
  },
  "varInspector": {
   "cols": {
    "lenName": 16,
    "lenType": 16,
    "lenVar": 40
   },
   "kernels_config": {
    "python": {
     "delete_cmd_postfix": "",
     "delete_cmd_prefix": "del ",
     "library": "var_list.py",
     "varRefreshCmd": "print(var_dic_list())"
    },
    "r": {
     "delete_cmd_postfix": ") ",
     "delete_cmd_prefix": "rm(",
     "library": "var_list.r",
     "varRefreshCmd": "cat(var_dic_list()) "
    }
   },
   "types_to_exclude": [
    "module",
    "function",
    "builtin_function_or_method",
    "instance",
    "_Feature"
   ],
   "window_display": false
  }
 },
 "nbformat": 4,
 "nbformat_minor": 5
}

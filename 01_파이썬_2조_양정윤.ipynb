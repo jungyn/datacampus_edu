{
 "cells": [
  {
   "cell_type": "code",
   "execution_count": 1,
   "metadata": {
    "ExecuteTime": {
     "end_time": "2023-03-18T13:01:13.836152Z",
     "start_time": "2023-03-18T13:01:13.825213Z"
    }
   },
   "outputs": [
    {
     "data": {
      "text/html": [
       "<style>.container { width:100% !important; }</style>"
      ],
      "text/plain": [
       "<IPython.core.display.HTML object>"
      ]
     },
     "metadata": {},
     "output_type": "display_data"
    },
    {
     "data": {
      "text/html": [
       "<style>\n",
       "div.CodeMirror, div.CodeMirror pre, div.CodeMirror-code,\n",
       "div.output_area pre, div.output_wrapper pre,\n",
       ".text_cell_render, .text_cell_render *\n",
       "{ font-family: Consolas; font-size: 15pt; line-height: 140%;}\n",
       "</style>"
      ],
      "text/plain": [
       "<IPython.core.display.HTML object>"
      ]
     },
     "metadata": {},
     "output_type": "display_data"
    }
   ],
   "source": [
    "from IPython.display import display, HTML, Markdown\n",
    "display(HTML(\"<style>.container { width:100% !important; }</style>\"))\n",
    "display(HTML(\"\"\"<style>\n",
    "div.CodeMirror, div.CodeMirror pre, div.CodeMirror-code,\n",
    "div.output_area pre, div.output_wrapper pre,\n",
    ".text_cell_render, .text_cell_render *\n",
    "{ font-family: Consolas; font-size: 15pt; line-height: 140%;}\n",
    "</style>\"\"\"))"
   ]
  },
  {
   "cell_type": "markdown",
   "metadata": {},
   "source": [
    "# 제출 방법\n",
    "\n",
    "파일 이름을 자신의 조와 자신의 이름을 이용하여 바꾸세요.\n",
    "제출 후 파일을 삭제 하시오.\n"
   ]
  },
  {
   "cell_type": "markdown",
   "metadata": {},
   "source": [
    "# 문제1\n",
    "두 수를 파라미터로 받아서 합을 리턴하는 함수를 만드시오.\n",
    "\n",
    "**실행결과**\n",
    "```\n",
    "3\n",
    "```"
   ]
  },
  {
   "cell_type": "code",
   "execution_count": 127,
   "metadata": {
    "ExecuteTime": {
     "end_time": "2022-03-13T13:01:44.110915Z",
     "start_time": "2022-03-13T13:01:44.097015Z"
    }
   },
   "outputs": [
    {
     "name": "stdout",
     "output_type": "stream",
     "text": [
      "3\n"
     ]
    }
   ],
   "source": [
    "def my_f1(a, b): \n",
    "    return a+b\n",
    "    pass\n",
    "\n",
    "print(my_f1(1,2))"
   ]
  },
  {
   "cell_type": "markdown",
   "metadata": {},
   "source": [
    "# 문제2\n",
    "\n",
    "세 수를 파라미터로 받아서 두번째로 큰 수를 리턴하시오.\n",
    "\n",
    "모든 인자는 정수이고 모든 수라고 가정한다.\n",
    "\n",
    "인자의 개수는 2개 이상이다.\n",
    "\n",
    "**실행결과**\n",
    "```\n",
    "1\n",
    "2\n",
    "3\n",
    "```"
   ]
  },
  {
   "cell_type": "code",
   "execution_count": 128,
   "metadata": {
    "ExecuteTime": {
     "end_time": "2022-03-13T13:04:16.726701Z",
     "start_time": "2022-03-13T13:04:16.712737Z"
    }
   },
   "outputs": [
    {
     "name": "stdout",
     "output_type": "stream",
     "text": [
      "1\n",
      "2\n",
      "3\n"
     ]
    }
   ],
   "source": [
    "def my_f2(*args):\n",
    "    return sorted(args)[-2]\n",
    "    pass\n",
    "\n",
    "print(my_f2(0, 2, 1))\n",
    "print(my_f2(2, 3, 1))\n",
    "print(my_f2(3, 4, 2, 1))"
   ]
  },
  {
   "cell_type": "markdown",
   "metadata": {},
   "source": [
    "# 문제3\n",
    "1부터 10까지의 수를 출력하는 함수를 만드시오.\n",
    "\n",
    "**실행결과**\n",
    "```\n",
    "1\n",
    "2\n",
    "3\n",
    "4\n",
    "5\n",
    "6\n",
    "7\n",
    "8\n",
    "9\n",
    "10\n",
    "```"
   ]
  },
  {
   "cell_type": "code",
   "execution_count": 129,
   "metadata": {
    "ExecuteTime": {
     "end_time": "2022-03-13T13:04:50.130913Z",
     "start_time": "2022-03-13T13:04:50.118880Z"
    }
   },
   "outputs": [
    {
     "name": "stdout",
     "output_type": "stream",
     "text": [
      "1\n",
      "2\n",
      "3\n",
      "4\n",
      "5\n",
      "6\n",
      "7\n",
      "8\n",
      "9\n",
      "10\n"
     ]
    }
   ],
   "source": [
    "def my_f3():\n",
    "    for i in range(1, 11):\n",
    "        print(i)\n",
    "    pass\n",
    "\n",
    "my_f3()"
   ]
  },
  {
   "cell_type": "markdown",
   "metadata": {},
   "source": [
    "# 문제4\n",
    "구구단 중에서 입력으로 받은 단을 다음과 같이 출력하시오.\n",
    "```\n",
    "5 * 1 = 5\n",
    "5 * 2 = 10\n",
    "5 * 3 = 15\n",
    "5 * 4 = 20\n",
    "5 * 5 = 25\n",
    "5 * 6 = 30\n",
    "5 * 7 = 35\n",
    "5 * 8 = 40\n",
    "5 * 9 = 45\n",
    "```"
   ]
  },
  {
   "cell_type": "code",
   "execution_count": 130,
   "metadata": {
    "ExecuteTime": {
     "end_time": "2022-03-13T13:06:37.833786Z",
     "start_time": "2022-03-13T13:06:37.823813Z"
    }
   },
   "outputs": [
    {
     "name": "stdout",
     "output_type": "stream",
     "text": [
      "5 * 1 = 5\n",
      "5 * 2 = 10\n",
      "5 * 3 = 15\n",
      "5 * 4 = 20\n",
      "5 * 5 = 25\n",
      "5 * 6 = 30\n",
      "5 * 7 = 35\n",
      "5 * 8 = 40\n",
      "5 * 9 = 45\n"
     ]
    }
   ],
   "source": [
    "def my_f4(a):\n",
    "    for i in range(1, 10):\n",
    "        print(a, \"*\", i, \"=\", a*i)\n",
    "    pass\n",
    "\n",
    "# 아래는 수정하지 마시오.\n",
    "my_f4(5)"
   ]
  },
  {
   "cell_type": "markdown",
   "metadata": {},
   "source": [
    "# 문제5\n",
    "1부터 n까지의 자연수가 들어 있는 리스트를 리턴하는 함수를 만드시오.\n",
    "\n",
    "**실행결과**\n",
    "```\n",
    "[1, 2, 3, 4, 5, 6, 7, 8, 9, 10, 11, 12, 13, 14, 15, 16, 17, 18, 19, 20, 21, 22, 23, 24, 25, 26, 27, 28, 29, 30, 31, 32, 33, 34, 35, 36, 37, 38, 39, 40, 41, 42, 43, 44, 45, 46, 47, 48, 49, 50]\n",
    "```"
   ]
  },
  {
   "cell_type": "code",
   "execution_count": 131,
   "metadata": {
    "ExecuteTime": {
     "end_time": "2022-03-13T13:07:24.649151Z",
     "start_time": "2022-03-13T13:07:24.642179Z"
    },
    "scrolled": true
   },
   "outputs": [
    {
     "name": "stdout",
     "output_type": "stream",
     "text": [
      "[1, 2, 3, 4, 5, 6, 7, 8, 9, 10, 11, 12, 13, 14, 15, 16, 17, 18, 19, 20, 21, 22, 23, 24, 25, 26, 27, 28, 29, 30, 31, 32, 33, 34, 35, 36, 37, 38, 39, 40, 41, 42, 43, 44, 45, 46, 47, 48, 49, 50]\n"
     ]
    }
   ],
   "source": [
    "def my_f5(n):\n",
    "    answer = []\n",
    "    \n",
    "    for i in range(1, n+1):\n",
    "        answer.append(i)\n",
    "    return answer\n",
    "\n",
    "print(my_f5(50))"
   ]
  },
  {
   "cell_type": "markdown",
   "metadata": {},
   "source": [
    "# 문제6\n",
    "1부터 n까지의 자연수 중에서 짝수들만 리스트 형태로 리턴하는 함수를 만드시오.\n",
    "\n",
    "**실행결과**\n",
    "```\n",
    "[2, 4, 6, 8, 10, 12, 14, 16, 18, 20, 22, 24, 26, 28, 30, 32, 34, 36, 38, 40, 42, 44, 46, 48, 50]\n",
    "```"
   ]
  },
  {
   "cell_type": "code",
   "execution_count": 132,
   "metadata": {
    "ExecuteTime": {
     "end_time": "2022-03-13T13:08:05.007081Z",
     "start_time": "2022-03-13T13:08:04.993607Z"
    }
   },
   "outputs": [
    {
     "name": "stdout",
     "output_type": "stream",
     "text": [
      "[2, 4, 6, 8, 10, 12, 14, 16, 18, 20, 22, 24, 26, 28, 30, 32, 34, 36, 38, 40, 42, 44, 46, 48, 50]\n"
     ]
    }
   ],
   "source": [
    "def my_f6(n):\n",
    "    answer = []\n",
    "    for i in range(1, n+1):\n",
    "        if i % 2 == 0:\n",
    "            answer.append(i)\n",
    "            \n",
    "    return answer\n",
    "    pass\n",
    "\n",
    "print(my_f6(50))"
   ]
  },
  {
   "cell_type": "markdown",
   "metadata": {},
   "source": [
    "# 문제7\n",
    "\n",
    "my_str은 \"3 + 5\"처럼 문자열로 된 수식입니다. 문자열 my_str이 매개변수로 주어질 때, 수식을 계산한 값을 return 하는 함수를 완성하시오.\n",
    "\n",
    "- 연산자는 +, -만 존재합니다.\n",
    "- 문자열의 시작과 끝에는 공백이 없습니다.\n",
    "- 0으로 시작하는 숫자는 주어지지 않습니다.\n",
    "- 잘못된 수식은 주어지지 않습니다.\n",
    "- my_str의 숫자와 연산자는 공백 하나로 구분되어 있습니다.\n",
    "\n",
    "\n",
    "**실행결과**\n",
    "```\n",
    "8\n",
    "7\n",
    "30\n",
    "```"
   ]
  },
  {
   "cell_type": "code",
   "execution_count": 158,
   "metadata": {
    "ExecuteTime": {
     "end_time": "2023-03-11T11:49:15.265665Z",
     "start_time": "2023-03-11T11:49:15.256683Z"
    }
   },
   "outputs": [
    {
     "name": "stdout",
     "output_type": "stream",
     "text": [
      "8\n",
      "7\n",
      "30\n"
     ]
    }
   ],
   "source": [
    "def my_f7(my_str):\n",
    "    answer = 0\n",
    "    for i in my_str.split('+'):\n",
    "        sub = 0\n",
    "        for j, v in enumerate(i.split('-')):\n",
    "            # j : 인덱스 v : 값(문자열)\n",
    "            if j == 0:\n",
    "                sub += int(v)\n",
    "            else:\n",
    "                sub -= int(v)\n",
    "                \n",
    "        answer += sub\n",
    "\n",
    "    return answer\n",
    "    pass\n",
    "\n",
    "        \n",
    "# 아래는 수정하지 마시오.\n",
    "print(my_f7(\"3 + 5\"))\n",
    "print(my_f7(\"3 + 5 - 2 + 1\"))\n",
    "print(my_f7(\"32 - 1 + 4 - 2 - 3\"))\n"
   ]
  },
  {
   "cell_type": "markdown",
   "metadata": {},
   "source": [
    "# 문제 10\n",
    "\n",
    "data를 size 크기의 작은 리스트로 나누어 묶는 divide_list 함수를 작성하시오.\n",
    "\n",
    "마지막 작은 리스트는 size 보다 작을 수 있다.\n",
    "\n",
    "\n",
    "***결과***\n",
    "```\n",
    "[[3, 2, 3], [41, 3, 4], [8, 3, 4], [5]]\n",
    "[[3, 2, 3, 41], [3, 4, 8, 3], [4, 5]]\n",
    "[[3, 2, 3, 41, 3], [4, 8, 3, 4, 5]]\n",
    "```"
   ]
  },
  {
   "cell_type": "code",
   "execution_count": 191,
   "metadata": {},
   "outputs": [
    {
     "name": "stdout",
     "output_type": "stream",
     "text": [
      "[[3, 2, 3], [41, 3, 4], [8, 3, 4], [5]]\n",
      "[[3, 2, 3, 41], [3, 4, 8, 3], [4, 5]]\n",
      "[[3, 2, 3, 41, 3], [4, 8, 3, 4, 5]]\n"
     ]
    }
   ],
   "source": [
    "def divide_list(data, size):\n",
    "    answer = []\n",
    "    for i in range(0, len(data), size):\n",
    "        sub = []\n",
    "        sub = data[i:i+size]\n",
    "        answer.append(sub)\n",
    "    return answer\n",
    "    pass\n",
    "\n",
    "data = [3, 2, 3, 41, 3, 4, 8, 3, 4, 5]\n",
    "print(divide_list(data, 3))\n",
    "print(divide_list(data, 4))\n",
    "print(divide_list(data, 5))\n"
   ]
  },
  {
   "cell_type": "code",
   "execution_count": 224,
   "metadata": {},
   "outputs": [
    {
     "name": "stdout",
     "output_type": "stream",
     "text": [
      "[[3, 2, 3], [41, 3, 4], [8, 3, 4], [5]]\n",
      "[[3, 2, 3, 41], [3, 4, 8, 3], [4, 5]]\n",
      "[[3, 2, 3, 41, 3], [4, 8, 3, 4, 5]]\n"
     ]
    }
   ],
   "source": [
    "# 제너레이터로 풀기(빅데이터 사용할 때 이용)\n",
    "def divide_list(data, size):\n",
    "    for i in range(0, len(data), size):\n",
    "        yield data[i:i+size]\n",
    "\n",
    "data = [3, 2, 3, 41, 3, 4, 8, 3, 4, 5]\n",
    "print(list(divide_list(data, 3))) # list로 바꿔줌\n",
    "print(list(divide_list(data, 4)))\n",
    "print(list(divide_list(data, 5)))"
   ]
  },
  {
   "cell_type": "markdown",
   "metadata": {},
   "source": [
    "# 문제 11\n",
    "\n",
    "2차원 리스트가 주어졌을 때, 최대값을 리턴하는 함수를 작성하시오.\n",
    "\n",
    "***결과***\n",
    "```\n",
    "73\n",
    "```"
   ]
  },
  {
   "cell_type": "code",
   "execution_count": 68,
   "metadata": {},
   "outputs": [
    {
     "name": "stdout",
     "output_type": "stream",
     "text": [
      "73\n"
     ]
    }
   ],
   "source": [
    "def max2d(data):\n",
    "    answer = []\n",
    "    for i in range(len(data)):\n",
    "        for j in range(len(data[i])):\n",
    "            answer.append(data[i][j])\n",
    "    return max(answer)\n",
    "\n",
    "data = [\n",
    "    [1, 7, 12],\n",
    "    [4, 7, 13],\n",
    "    [1, 5, 17],\n",
    "    [3, 5, 20],\n",
    "    [2, 4, 24],\n",
    "    [1, 4, 28],\n",
    "    [3, 6, 37],\n",
    "    [5, 6, 45],\n",
    "    [5, 7, 73],\n",
    "    [2, 5, 62],\n",
    "    [1, 2, 67],\n",
    "    \n",
    "]\n",
    "\n",
    "max_value = max2d(data)\n",
    "print(max_value)"
   ]
  },
  {
   "cell_type": "code",
   "execution_count": 216,
   "metadata": {},
   "outputs": [
    {
     "name": "stdout",
     "output_type": "stream",
     "text": [
      "73\n"
     ]
    }
   ],
   "source": [
    "# 교수님 풀이\n",
    "def max2d(data):\n",
    "#    max_value = 0\n",
    "#    for i in data:\n",
    "#        if max(i) > max_value:\n",
    "#            max_value = max(i)    \n",
    "#    return max_value\n",
    "    \n",
    "    # 한줄풀이\n",
    "    #return max([max(x) for x in data])\n",
    "    \n",
    "    # map 함수 풀이\n",
    "    return max(list(map(max, data)))\n",
    "\n",
    "data = [\n",
    "    [1, 7, 12],\n",
    "    [4, 7, 13],\n",
    "    [1, 5, 17],\n",
    "    [3, 5, 20],\n",
    "    [2, 4, 24],\n",
    "    [1, 4, 28],\n",
    "    [3, 6, 37],\n",
    "    [5, 6, 45],\n",
    "    [5, 7, 73],\n",
    "    [2, 5, 62],\n",
    "    [1, 2, 67],\n",
    "    \n",
    "]\n",
    "\n",
    "max_value = max2d(data)\n",
    "print(max_value)"
   ]
  },
  {
   "cell_type": "code",
   "execution_count": null,
   "metadata": {},
   "outputs": [],
   "source": []
  }
 ],
 "metadata": {
  "kernelspec": {
   "display_name": "Python 3",
   "language": "python",
   "name": "python3"
  },
  "language_info": {
   "codemirror_mode": {
    "name": "ipython",
    "version": 3
   },
   "file_extension": ".py",
   "mimetype": "text/x-python",
   "name": "python",
   "nbconvert_exporter": "python",
   "pygments_lexer": "ipython3",
   "version": "3.7.3"
  },
  "toc": {
   "base_numbering": 1,
   "nav_menu": {},
   "number_sections": true,
   "sideBar": true,
   "skip_h1_title": false,
   "title_cell": "Table of Contents",
   "title_sidebar": "Contents",
   "toc_cell": false,
   "toc_position": {},
   "toc_section_display": true,
   "toc_window_display": false
  },
  "varInspector": {
   "cols": {
    "lenName": 16,
    "lenType": 16,
    "lenVar": 40
   },
   "kernels_config": {
    "python": {
     "delete_cmd_postfix": "",
     "delete_cmd_prefix": "del ",
     "library": "var_list.py",
     "varRefreshCmd": "print(var_dic_list())"
    },
    "r": {
     "delete_cmd_postfix": ") ",
     "delete_cmd_prefix": "rm(",
     "library": "var_list.r",
     "varRefreshCmd": "cat(var_dic_list()) "
    }
   },
   "types_to_exclude": [
    "module",
    "function",
    "builtin_function_or_method",
    "instance",
    "_Feature"
   ],
   "window_display": false
  }
 },
 "nbformat": 4,
 "nbformat_minor": 2
}

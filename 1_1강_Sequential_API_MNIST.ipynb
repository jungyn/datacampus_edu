{
  "cells": [
    {
      "cell_type": "markdown",
      "metadata": {
        "id": "bsUmjV_B8CTK"
      },
      "source": [
        "텐서플로우에서 하이레벨 API를 담당하고 있는 케라스를 불러옵니다.  \n",
        "버전을 확인해보죠"
      ]
    },
    {
      "cell_type": "code",
      "execution_count": 1,
      "metadata": {
        "colab": {
          "base_uri": "https://localhost:8080/",
          "height": 35
        },
        "id": "ZyLEiFME8CTN",
        "outputId": "9679dc3d-3c0e-471d-f9ce-bbd2c5c8e7a1"
      },
      "outputs": [
        {
          "output_type": "execute_result",
          "data": {
            "text/plain": [
              "'2.12.0'"
            ],
            "application/vnd.google.colaboratory.intrinsic+json": {
              "type": "string"
            }
          },
          "metadata": {},
          "execution_count": 1
        }
      ],
      "source": [
        "from tensorflow import keras\n",
        "keras.__version__"
      ]
    },
    {
      "cell_type": "markdown",
      "metadata": {
        "id": "0gREqUT28CTP"
      },
      "source": [
        "# MNIST 데이터셋\n",
        "\n",
        "케라스에는 머신러닝 분야에서 유명한 데이터셋들 몇 종류가 내장되어있습니다.  \n",
        "[tf.keras.datasets](https://www.tensorflow.org/api_docs/python/tf/keras/datasets)을 확인해 보세요.  \n",
        "[딥러닝I](https://youtu.be/ojMAFoH7MxA?t=6)에서 내내 보았던 MNIST 데이터셋을 불러와보죠."
      ]
    },
    {
      "cell_type": "code",
      "execution_count": 2,
      "metadata": {
        "id": "iV_XcWf58CTQ",
        "colab": {
          "base_uri": "https://localhost:8080/"
        },
        "outputId": "05527bf7-7f0f-42e9-b781-28bed55b3fef"
      },
      "outputs": [
        {
          "output_type": "stream",
          "name": "stdout",
          "text": [
            "Downloading data from https://storage.googleapis.com/tensorflow/tf-keras-datasets/mnist.npz\n",
            "11490434/11490434 [==============================] - 1s 0us/step\n"
          ]
        }
      ],
      "source": [
        "from keras.datasets import mnist\n",
        "\n",
        "(train_images, train_labels), (test_images, test_labels) = mnist.load_data()"
      ]
    },
    {
      "cell_type": "markdown",
      "metadata": {
        "id": "SOR9dlGS8CTQ"
      },
      "source": [
        "첫번째 훈련 데이터입니다.  \n",
        "28$\\times$28 행렬이고 원소는 0부터 255까지의 정수이며 픽셀의 밝기를 나타냅니다."
      ]
    },
    {
      "cell_type": "code",
      "execution_count": 3,
      "metadata": {
        "colab": {
          "base_uri": "https://localhost:8080/"
        },
        "id": "1kUPR8O78CTR",
        "outputId": "7e7d65ee-6a07-4d2d-e23e-384e569baaeb"
      },
      "outputs": [
        {
          "output_type": "stream",
          "name": "stdout",
          "text": [
            "[[  0   0   0   0   0   0   0   0   0   0   0   0   0   0   0   0   0   0   0   0   0   0   0   0   0   0   0   0]\n",
            " [  0   0   0   0   0   0   0   0   0   0   0   0   0   0   0   0   0   0   0   0   0   0   0   0   0   0   0   0]\n",
            " [  0   0   0   0   0   0   0   0   0   0   0   0   0   0   0   0   0   0   0   0   0   0   0   0   0   0   0   0]\n",
            " [  0   0   0   0   0   0   0   0   0   0   0   0   0   0   0   0   0   0   0   0   0   0   0   0   0   0   0   0]\n",
            " [  0   0   0   0   0   0   0   0   0   0   0   0   0   0   0   0   0   0   0   0   0   0   0   0   0   0   0   0]\n",
            " [  0   0   0   0   0   0   0   0   0   0   0   0   3  18  18  18 126 136 175  26 166 255 247 127   0   0   0   0]\n",
            " [  0   0   0   0   0   0   0   0  30  36  94 154 170 253 253 253 253 253 225 172 253 242 195  64   0   0   0   0]\n",
            " [  0   0   0   0   0   0   0  49 238 253 253 253 253 253 253 253 253 251  93  82  82  56  39   0   0   0   0   0]\n",
            " [  0   0   0   0   0   0   0  18 219 253 253 253 253 253 198 182 247 241   0   0   0   0   0   0   0   0   0   0]\n",
            " [  0   0   0   0   0   0   0   0  80 156 107 253 253 205  11   0  43 154   0   0   0   0   0   0   0   0   0   0]\n",
            " [  0   0   0   0   0   0   0   0   0  14   1 154 253  90   0   0   0   0   0   0   0   0   0   0   0   0   0   0]\n",
            " [  0   0   0   0   0   0   0   0   0   0   0 139 253 190   2   0   0   0   0   0   0   0   0   0   0   0   0   0]\n",
            " [  0   0   0   0   0   0   0   0   0   0   0  11 190 253  70   0   0   0   0   0   0   0   0   0   0   0   0   0]\n",
            " [  0   0   0   0   0   0   0   0   0   0   0   0  35 241 225 160 108   1   0   0   0   0   0   0   0   0   0   0]\n",
            " [  0   0   0   0   0   0   0   0   0   0   0   0   0  81 240 253 253 119  25   0   0   0   0   0   0   0   0   0]\n",
            " [  0   0   0   0   0   0   0   0   0   0   0   0   0   0  45 186 253 253 150  27   0   0   0   0   0   0   0   0]\n",
            " [  0   0   0   0   0   0   0   0   0   0   0   0   0   0   0  16  93 252 253 187   0   0   0   0   0   0   0   0]\n",
            " [  0   0   0   0   0   0   0   0   0   0   0   0   0   0   0   0   0 249 253 249  64   0   0   0   0   0   0   0]\n",
            " [  0   0   0   0   0   0   0   0   0   0   0   0   0   0  46 130 183 253 253 207   2   0   0   0   0   0   0   0]\n",
            " [  0   0   0   0   0   0   0   0   0   0   0   0  39 148 229 253 253 253 250 182   0   0   0   0   0   0   0   0]\n",
            " [  0   0   0   0   0   0   0   0   0   0  24 114 221 253 253 253 253 201  78   0   0   0   0   0   0   0   0   0]\n",
            " [  0   0   0   0   0   0   0   0  23  66 213 253 253 253 253 198  81   2   0   0   0   0   0   0   0   0   0   0]\n",
            " [  0   0   0   0   0   0  18 171 219 253 253 253 253 195  80   9   0   0   0   0   0   0   0   0   0   0   0   0]\n",
            " [  0   0   0   0  55 172 226 253 253 253 253 244 133  11   0   0   0   0   0   0   0   0   0   0   0   0   0   0]\n",
            " [  0   0   0   0 136 253 253 253 212 135 132  16   0   0   0   0   0   0   0   0   0   0   0   0   0   0   0   0]\n",
            " [  0   0   0   0   0   0   0   0   0   0   0   0   0   0   0   0   0   0   0   0   0   0   0   0   0   0   0   0]\n",
            " [  0   0   0   0   0   0   0   0   0   0   0   0   0   0   0   0   0   0   0   0   0   0   0   0   0   0   0   0]\n",
            " [  0   0   0   0   0   0   0   0   0   0   0   0   0   0   0   0   0   0   0   0   0   0   0   0   0   0   0   0]]\n"
          ]
        }
      ],
      "source": [
        "import numpy as np\n",
        "np.set_printoptions(linewidth=200,threshold=1000)\n",
        "\n",
        "print(train_images[0])"
      ]
    },
    {
      "cell_type": "markdown",
      "metadata": {
        "id": "9R2uK8Bs8CTR"
      },
      "source": [
        "matplotlib을 사용해서 이미지로 보죠."
      ]
    },
    {
      "cell_type": "code",
      "execution_count": 4,
      "metadata": {
        "colab": {
          "base_uri": "https://localhost:8080/",
          "height": 406
        },
        "id": "bCD2EsSc8CTS",
        "outputId": "5aee4400-ba5c-40e8-ffb3-9d246efa235a"
      },
      "outputs": [
        {
          "output_type": "display_data",
          "data": {
            "text/plain": [
              "<Figure size 640x480 with 1 Axes>"
            ],
            "image/png": "[encoded data removed]"
          },
          "metadata": {}
        }
      ],
      "source": [
        "import matplotlib.pyplot as plt\n",
        "\n",
        "plt.axis(\"off\")\n",
        "plt.imshow(train_images[0], cmap=plt.cm.gray)\n",
        "plt.show()"
      ]
    },
    {
      "cell_type": "markdown",
      "metadata": {
        "id": "zVWEx77X8CTS"
      },
      "source": [
        "라벨입니다."
      ]
    },
    {
      "cell_type": "code",
      "execution_count": 5,
      "metadata": {
        "colab": {
          "base_uri": "https://localhost:8080/"
        },
        "id": "gGXglQyy8CTT",
        "outputId": "6a927757-c5e0-4781-f8eb-a829c711c2b9"
      },
      "outputs": [
        {
          "output_type": "stream",
          "name": "stdout",
          "text": [
            "5\n"
          ]
        }
      ],
      "source": [
        "print(train_labels[0])"
      ]
    },
    {
      "cell_type": "markdown",
      "metadata": {
        "id": "TAu0j8UF8CTT"
      },
      "source": [
        "shape을 출력해보겠습니다.  \n",
        "28$\\times$28 해상도 훈련데이터 60,000장, 테스트 데이터 10,000장이 있습니다.  \n",
        "밑바닥부터 시작하는 딥러닝에서는 훈련 데이터의 shape이 60,000$\\times$1$\\times$28$\\times$28이었는데 여기서는 허당 채널이 없네요.  \n",
        "나중에 CNN할때는 허당 채널을 만들어줘야 합니다."
      ]
    },
    {
      "cell_type": "code",
      "execution_count": 6,
      "metadata": {
        "colab": {
          "base_uri": "https://localhost:8080/"
        },
        "id": "XMgEFrHh8CTT",
        "outputId": "76d9ae43-1bcb-4582-e8d4-030123734d50"
      },
      "outputs": [
        {
          "output_type": "stream",
          "name": "stdout",
          "text": [
            "(60000, 28, 28)\n",
            "(60000,)\n",
            "(10000, 28, 28)\n",
            "(10000,)\n"
          ]
        }
      ],
      "source": [
        "print(train_images.shape)\n",
        "print(train_labels.shape)\n",
        "print(test_images.shape)\n",
        "print(test_labels.shape)"
      ]
    },
    {
      "cell_type": "markdown",
      "metadata": {
        "id": "ldZ1Psxb8CTU"
      },
      "source": [
        "plt.subplot을 이용해서 훈련 데이터의 앞 25장을 5$\\times$5 바둑판 형태로 출력해 보겠습니다."
      ]
    },
    {
      "cell_type": "code",
      "execution_count": 7,
      "metadata": {
        "colab": {
          "base_uri": "https://localhost:8080/",
          "height": 826
        },
        "id": "trvnzzJ38CTU",
        "outputId": "e5832569-71ed-438d-d1c7-8f135d2f8b9e"
      },
      "outputs": [
        {
          "output_type": "display_data",
          "data": {
            "text/plain": [
              "<Figure size 1000x1000 with 25 Axes>"
            ],
            "image/png": "[encoded data removed]"
          },
          "metadata": {}
        }
      ],
      "source": [
        "plt.figure(figsize=(10,10))\n",
        "for i in range(25):\n",
        "    plt.subplot(5,5,i+1)\n",
        "    plt.xticks([])\n",
        "    plt.yticks([])\n",
        "    plt.imshow(train_images[i], cmap=plt.cm.binary)\n",
        "    plt.xlabel(train_labels[i])\n",
        "plt.show()"
      ]
    },
    {
      "cell_type": "markdown",
      "metadata": {
        "id": "-dRuv4Ap8CTV"
      },
      "source": [
        "# Sequential API"
      ]
    },
    {
      "cell_type": "markdown",
      "metadata": {
        "id": "rEgSAN8g8CTW"
      },
      "source": [
        "케라스에는 딥러닝 분야에서 사용되는 대부분의 층들이 클래스로 구현되어 있습니다.  \n",
        "[tf.keras.layers](https://www.tensorflow.org/api_docs/python/tf/keras/layers)를 확인해 보세요."
      ]
    },
    {
      "cell_type": "code",
      "execution_count": 8,
      "metadata": {
        "id": "yXVQXlsE8CTW"
      },
      "outputs": [],
      "source": [
        "from keras import layers"
      ]
    },
    {
      "cell_type": "markdown",
      "metadata": {
        "id": "gMvFJ8RQ8CTW"
      },
      "source": [
        "relu층과 softmax층입니다.  \n",
        "밑바닥부터 시작하는 딥러닝과 비슷하네요.  \n",
        "순전파를 할때 .forward를 안붙입니다.  \n",
        "왜냐하면 순전파는 특수 메서드 `__call__` 에 구현되어 있기 때문입니다."
      ]
    },
    {
      "cell_type": "code",
      "execution_count": 9,
      "metadata": {
        "colab": {
          "base_uri": "https://localhost:8080/"
        },
        "id": "HcntpH6A8CTX",
        "outputId": "fd7699a6-e09b-4c6c-af11-713656cb9d2b"
      },
      "outputs": [
        {
          "output_type": "stream",
          "name": "stdout",
          "text": [
            "tf.Tensor([1 0 3 0], shape=(4,), dtype=int64)\n"
          ]
        }
      ],
      "source": [
        "relu = layers.ReLU()\n",
        "print(relu(np.array([1,-2,3,-4]))) # 순전파 : 양수는 살리고, 음수는 0"
      ]
    },
    {
      "cell_type": "code",
      "execution_count": 10,
      "metadata": {
        "colab": {
          "base_uri": "https://localhost:8080/"
        },
        "id": "1K74zRPZ8CTX",
        "outputId": "b27e0ce9-d55f-47bb-f071-1a9dddd760bd"
      },
      "outputs": [
        {
          "output_type": "stream",
          "name": "stdout",
          "text": [
            "tf.Tensor([0.2 0.3 0.5], shape=(3,), dtype=float32)\n"
          ]
        }
      ],
      "source": [
        "softmax = layers.Softmax() # 합이 1이 되어야 함\n",
        "print(softmax(np.log(np.array([2,3,5]))))"
      ]
    },
    {
      "cell_type": "markdown",
      "metadata": {
        "id": "1SE0u5gB8CTX"
      },
      "source": [
        "Affine층은 이름이 2개 더 있습니다.  \n",
        "Affine layer, dense layer, fully connected layer는 모두 같은 말입니다.  \n",
        "딥러닝I에서 바닥부터 구현한 다음 신경망을 케라스로 다시 구현해 보죠.  \n",
        "![](https://drive.google.com/uc?id=1vBEb27TDxTo9p-lMuZR8rIO377JQFSKS)  \n",
        "Affine층 2개는 다음과 같이 만듭니다."
      ]
    },
    {
      "cell_type": "code",
      "execution_count": 11,
      "metadata": {
        "id": "4fwXIK4X8CTY"
      },
      "outputs": [],
      "source": [
        "dense1 = layers.Dense(50, input_shape=(784,))\n",
        "dense2 = layers.Dense(10)"
      ]
    },
    {
      "cell_type": "markdown",
      "metadata": {
        "id": "fb38WTn28CTY"
      },
      "source": [
        "케라스는 3가지 API를 제공합니다.  \n",
        "Sequential API, Functional API, Subcalssing API입니다.  \n",
        "이중에 유연성은 떨어지지만 가장 사용하기 쉬운 Sequential API를 먼저 공부하겠습니다.  \n",
        "위의 층들을 [tf.keras.Sequential](https://www.tensorflow.org/api_docs/python/tf/keras/Sequential)을 이용해서 일렬로 묶으면 2학년 1학기때 구현한 신경망이 완성됩니다."
      ]
    },
    {
      "cell_type": "code",
      "execution_count": 12,
      "metadata": {
        "id": "Q_JCBsQd8CTY"
      },
      "outputs": [],
      "source": [
        "from keras import Sequential\n",
        "\n",
        "model = Sequential([dense1, relu, dense2, softmax])"
      ]
    },
    {
      "cell_type": "markdown",
      "metadata": {
        "id": "P8EhMQBA8CTZ"
      },
      "source": [
        "첫번째 Affine층의 가중치 행렬과 편향 벡터를 출력해 보겠습니다.  \n",
        "[tf.keras.layers.Dense](https://www.tensorflow.org/api_docs/python/tf/keras/layers/Dense)를 보시면 가중치 행렬 초기값 디폴트 설정이 glorot_uniform으로 되어 있습니다.  \n",
        "[딥러닝II](https://youtu.be/LQ8Rm09jgAE?t=3453)에서 Xavier 초기값을 배웠는데요.  \n",
        "Xavier의 풀네임이 Xavier Glorot입니다.  \n",
        "밑바닥부터 시작하는 딥러닝에 나오는 Xavier 초기값은 사실 Lecun 초기값입니다.  \n",
        "$n_{in}$을 입력 뉴런수, $n_{out}$을 입력 뉴런수라 하면 Lecun 초기값과 Xavier 초기값은 다음과 같습니다.  \n",
        "- LeCun normal initialization : $W \\sim N(0,{1 \\over n_{in}})$\n",
        "- Xavier normal initialization : $W \\sim N(0,{2 \\over n_{in}+n_{out}})$\n",
        "\n",
        "말로 풀면 LeCun 초기값의 분산은 입력뉴런의 역수이고, Xavier 초기값의 분산은 입력 뉴런과 출력뉴런의 평균의 역수입니다.  \n",
        "\n",
        "밑바닥부터 시작하는 딥러닝에서는 가중치행렬을 항상 정규분포를 따라 랜덤하게 초기화했는데 균등분포를 따라 랜덤하게 초기화 하기도 합니다.  \n",
        "케라스에서는 균등분포에 따른 초기화가 디폴트입니다.  \n",
        "- LeCun uniform initialization : $W \\sim U(-\\sqrt{3 \\over n_{in}},\\sqrt{3 \\over n_{in}})$\n",
        "- Xavier uniform initialization : $W \\sim U(-\\sqrt{6 \\over n_{in}+n_{out}},\\sqrt{6 \\over n_{in}+n_{out}})$\n",
        "\n",
        "[tf.keras.initializers](https://www.tensorflow.org/api_docs/python/tf/keras/initializers)를 참고하세요.  \n",
        "\n",
        "---\n",
        "균등분포 $U(a,b)$의 확률밀도 함수를 그래프로 그리면 아래와 같습니다.  \n",
        "평균은\n",
        "$$\n",
        "{1 \\over b-a} \\int_a^b x dx = {a+b \\over 2}\n",
        "$$\n",
        "이고 분산은\n",
        "$$\n",
        "\\left({1 \\over b-a} \\int_a^b x^2 dx\\right) - \\left({1 \\over b-a} \\int_a^b x dx\\right)^2 = {(b-a)^2 \\over 12}\n",
        "$$\n",
        "입니다.  \n",
        "균등분포를 따르는 LeCun 초기값과 Xavier초기값에 적용을 해보세요.  \n",
        "균등분포의 경우도 LeCun 초기값의 분산은 입력뉴런의 역수이고, Xavier 초기값의 분산은 입력 뉴런과 출력뉴런의 평균의 역수임을 확인할 수 있습니다.  \n",
        "![](https://drive.google.com/uc?id=1iP1kmT7Cylf0kGMgKgYLcpvs7E9YkNGV)"
      ]
    },
    {
      "cell_type": "code",
      "execution_count": 13,
      "metadata": {
        "colab": {
          "base_uri": "https://localhost:8080/"
        },
        "id": "i69zD5Zu8CTZ",
        "outputId": "9038cd21-3e9d-4a79-dd2b-2c1f0c14023d",
        "scrolled": true
      },
      "outputs": [
        {
          "output_type": "stream",
          "name": "stdout",
          "text": [
            "[<tf.Variable 'dense/kernel:0' shape=(784, 50) dtype=float32, numpy=\n",
            "array([[-0.05499589, -0.05841226, -0.04923028, ...,  0.01128046,  0.05475528, -0.08000115],\n",
            "       [ 0.0752413 , -0.01826734, -0.07322945, ...,  0.05412968,  0.00185551, -0.04420483],\n",
            "       [-0.00274596, -0.05092388,  0.03809921, ...,  0.02149779,  0.03547414, -0.05190467],\n",
            "       ...,\n",
            "       [-0.06815784,  0.01009963,  0.00849539, ...,  0.0346875 , -0.03138512,  0.0267091 ],\n",
            "       [ 0.08102901,  0.01846323, -0.0203831 , ..., -0.03251052,  0.00091518, -0.04847619],\n",
            "       [-0.07507946, -0.04763868, -0.06736231, ..., -0.03685935, -0.07365415, -0.06302354]], dtype=float32)>, <tf.Variable 'dense/bias:0' shape=(50,) dtype=float32, numpy=\n",
            "array([0., 0., 0., 0., 0., 0., 0., 0., 0., 0., 0., 0., 0., 0., 0., 0., 0., 0., 0., 0., 0., 0., 0., 0., 0., 0., 0., 0., 0., 0., 0., 0., 0., 0., 0., 0., 0., 0., 0., 0., 0., 0., 0., 0., 0., 0., 0., 0.,\n",
            "       0., 0.], dtype=float32)>]\n"
          ]
        }
      ],
      "source": [
        "print(model.layers[0].weights)"
      ]
    },
    {
      "cell_type": "markdown",
      "metadata": {
        "id": "MxyUwTWS8CTa"
      },
      "source": [
        "[summary](https://www.tensorflow.org/api_docs/python/tf/keras/Sequential#summary) 메서드를 통해 신경망 정보를 요약해서 볼수 있습니다.  \n",
        "배치 개수는 신경망과 독립적으로 우리가 원하는 값을 나중에 학습할때 선택할수 있기 때문에 None으로 나옵니다.  \n",
        "첫번째 Affine층은 학습해야할 파라미터 개수가 $784 \\times 50 + 50 = 39,250$개이고 두번째 Affine층은 학습해야할 파라미터 개수가 $50 \\times 10 +10 = 510$개입니다.  \n",
        "Non-trainable parmas는 업데이트하지 않고 고정시켜놓는 파라미터를 뜻합니다.  \n",
        "나중에 전이학습을 공부할때 필요합니다."
      ]
    },
    {
      "cell_type": "code",
      "execution_count": 14,
      "metadata": {
        "colab": {
          "base_uri": "https://localhost:8080/"
        },
        "id": "u8xLo5y38CTa",
        "outputId": "e9e08d36-1dc5-4bd2-91a8-7013e978f98c"
      },
      "outputs": [
        {
          "output_type": "stream",
          "name": "stdout",
          "text": [
            "Model: \"sequential\"\n",
            "_________________________________________________________________\n",
            " Layer (type)                Output Shape              Param #   \n",
            "=================================================================\n",
            " dense (Dense)               (None, 50)                39250     \n",
            "                                                                 \n",
            " re_lu (ReLU)                (None, 50)                0         \n",
            "                                                                 \n",
            " dense_1 (Dense)             (None, 10)                510       \n",
            "                                                                 \n",
            " softmax (Softmax)           (None, 10)                0         \n",
            "                                                                 \n",
            "=================================================================\n",
            "Total params: 39,760\n",
            "Trainable params: 39,760\n",
            "Non-trainable params: 0\n",
            "_________________________________________________________________\n"
          ]
        }
      ],
      "source": [
        "model.summary()"
      ]
    },
    {
      "cell_type": "markdown",
      "metadata": {
        "id": "DWvlkDr78CTa"
      },
      "source": [
        "[tf.keras.utils.plot_model](https://www.tensorflow.org/api_docs/python/tf/keras/utils/plot_model)을 이용하면 신경망 구성을 시각화 할수 있습니다."
      ]
    },
    {
      "cell_type": "code",
      "execution_count": 15,
      "metadata": {
        "colab": {
          "base_uri": "https://localhost:8080/",
          "height": 466
        },
        "id": "sFhxSvnB8CTb",
        "outputId": "46bb9a05-3b2d-4a0d-cd86-f43b38d70093"
      },
      "outputs": [
        {
          "output_type": "execute_result",
          "data": {
            "image/png": "[encoded data removed]",
            "text/plain": [
              "<IPython.core.display.Image object>"
            ]
          },
          "metadata": {},
          "execution_count": 15
        }
      ],
      "source": [
        "from tensorflow.keras.utils import plot_model\n",
        "\n",
        "plot_model(model)"
      ]
    },
    {
      "cell_type": "markdown",
      "metadata": {
        "id": "EFazw8ug8CTb"
      },
      "source": [
        "입력데이터의 shape과 출력 데이터의 shape도 표시할수 있습니다."
      ]
    },
    {
      "cell_type": "code",
      "execution_count": 16,
      "metadata": {
        "colab": {
          "base_uri": "https://localhost:8080/",
          "height": 533
        },
        "id": "XC0VgW2t8CTb",
        "outputId": "fb0dc1ff-d125-44cc-dad5-000005657b6c"
      },
      "outputs": [
        {
          "output_type": "execute_result",
          "data": {
            "image/png": "[encoded data removed]",
            "text/plain": [
              "<IPython.core.display.Image object>"
            ]
          },
          "metadata": {},
          "execution_count": 16
        }
      ],
      "source": [
        "plot_model(model, show_shapes=True)"
      ]
    },
    {
      "cell_type": "markdown",
      "metadata": {
        "id": "G5GozBo38CTc"
      },
      "source": [
        "relu층과 softmax층은 위와 같이 층을 따로 만들기 보다는 다음과 같이 [Dense](https://www.tensorflow.org/api_docs/python/tf/keras/layers/Dense) 클래스의 인수로 설정해서 구성하는 것이 통상적입니다."
      ]
    },
    {
      "cell_type": "code",
      "execution_count": 17,
      "metadata": {
        "id": "HOdWYDld8CTc"
      },
      "outputs": [],
      "source": [
        "model = Sequential([\n",
        "    layers.Dense(50, input_shape=(784,), activation=\"relu\"),\n",
        "    layers.Dense(10, activation=\"softmax\")\n",
        "])"
      ]
    },
    {
      "cell_type": "code",
      "execution_count": 18,
      "metadata": {
        "colab": {
          "base_uri": "https://localhost:8080/"
        },
        "id": "8r8RwzZM8CTc",
        "outputId": "a96d6228-42f1-4092-b0db-db515c1c4e0e"
      },
      "outputs": [
        {
          "output_type": "stream",
          "name": "stdout",
          "text": [
            "Model: \"sequential_1\"\n",
            "_________________________________________________________________\n",
            " Layer (type)                Output Shape              Param #   \n",
            "=================================================================\n",
            " dense_2 (Dense)             (None, 50)                39250     \n",
            "                                                                 \n",
            " dense_3 (Dense)             (None, 10)                510       \n",
            "                                                                 \n",
            "=================================================================\n",
            "Total params: 39,760\n",
            "Trainable params: 39,760\n",
            "Non-trainable params: 0\n",
            "_________________________________________________________________\n"
          ]
        }
      ],
      "source": [
        "model.summary()"
      ]
    },
    {
      "cell_type": "code",
      "execution_count": 19,
      "metadata": {
        "colab": {
          "base_uri": "https://localhost:8080/",
          "height": 272
        },
        "id": "P_ABnX2l8CTd",
        "outputId": "a0c3a4b9-c3f0-45f7-931a-a8e5d98e6b0a"
      },
      "outputs": [
        {
          "output_type": "execute_result",
          "data": {
            "image/png": "[encoded data removed]",
            "text/plain": [
              "<IPython.core.display.Image object>"
            ]
          },
          "metadata": {},
          "execution_count": 19
        }
      ],
      "source": [
        "plot_model(model)"
      ]
    },
    {
      "cell_type": "code",
      "execution_count": 20,
      "metadata": {
        "colab": {
          "base_uri": "https://localhost:8080/",
          "height": 298
        },
        "id": "78xi2m8l8CTd",
        "outputId": "b5fbe4db-5669-4c06-d5d4-ae6d7975a098"
      },
      "outputs": [
        {
          "output_type": "execute_result",
          "data": {
            "image/png": "[encoded data removed]",
            "text/plain": [
              "<IPython.core.display.Image object>"
            ]
          },
          "metadata": {},
          "execution_count": 20
        }
      ],
      "source": [
        "plot_model(model, show_layer_activations=True)"
      ]
    },
    {
      "cell_type": "markdown",
      "metadata": {
        "id": "GhPvjMV68CTd"
      },
      "source": [
        "딥러닝I에서 우리는 중간고사까지 활성화 함수로 sigmoid함수를 사용했었습니다."
      ]
    },
    {
      "cell_type": "code",
      "execution_count": 21,
      "metadata": {
        "id": "bPxCGNI68CTd"
      },
      "outputs": [],
      "source": [
        "model_sig = Sequential([\n",
        "    layers.Dense(50, input_shape=(784,), activation=\"sigmoid\"),\n",
        "    layers.Dense(10, activation=\"softmax\")\n",
        "])"
      ]
    },
    {
      "cell_type": "code",
      "execution_count": 22,
      "metadata": {
        "colab": {
          "base_uri": "https://localhost:8080/",
          "height": 298
        },
        "id": "UMGlJLDn8CTe",
        "outputId": "480cbd04-8f64-4313-da85-c4e9a12c2b51"
      },
      "outputs": [
        {
          "output_type": "execute_result",
          "data": {
            "image/png": "[encoded data removed]",
            "text/plain": [
              "<IPython.core.display.Image object>"
            ]
          },
          "metadata": {},
          "execution_count": 22
        }
      ],
      "source": [
        "plot_model(model_sig, show_layer_activations=True)"
      ]
    },
    {
      "cell_type": "markdown",
      "metadata": {
        "id": "4b_HY3268CTe"
      },
      "source": [
        "입력 뉴런 수를 지정하지 않을 수도 있습니다.  \n",
        "입력 이미지의 해상도에 독립적인 신경망 구성입니다.  \n",
        "이때는 summary나 plot_model이 적용되지 않고 가중치도 초기화되지 않습니다.  \n",
        "데이터가 입력되는 순간 입력 뉴런수가 결정되고 가중치도 초기화됩니다."
      ]
    },
    {
      "cell_type": "code",
      "execution_count": 23,
      "metadata": {
        "colab": {
          "base_uri": "https://localhost:8080/"
        },
        "id": "pkhPA_dL8CTe",
        "outputId": "aa172b01-d91d-4c20-838b-14bd98060c90"
      },
      "outputs": [
        {
          "output_type": "stream",
          "name": "stdout",
          "text": [
            "[]\n",
            "[]\n"
          ]
        }
      ],
      "source": [
        "model_free = Sequential([\n",
        "    layers.Dense(50, activation=\"relu\"),\n",
        "    layers.Dense(10, activation=\"softmax\")\n",
        "])\n",
        "\n",
        "print(model_free.layers[0].weights)\n",
        "print(model_free.layers[1].weights)"
      ]
    },
    {
      "cell_type": "markdown",
      "metadata": {
        "id": "r0ACUixF8CTf"
      },
      "source": [
        "딥러닝1에서 맨 처음 본 의미있는 신경망은 저자가 학습시켜놓은 다음과 같은 신경망이었습니다.  \n",
        "활성화 함수는 sigmoid함수였습니다.  \n",
        "![](https://drive.google.com/uc?id=1aczMXZvo2PbHAj53Ld00ZcMEq7zDXV_S)"
      ]
    },
    {
      "cell_type": "markdown",
      "source": [
        "**[실습1] 위 신경망을 Sequential API로 구성하고 summary와 plot_model을 출력하시오. 모델 이름은 본인의 이니셜로 지으시오.**"
      ],
      "metadata": {
        "id": "zTIovYyotjVp"
      }
    },
    {
      "cell_type": "code",
      "source": [
        "model_jy = Sequential([\n",
        "    layers.Dense(50, input_shape=(784,), activation=\"sigmoid\"),\n",
        "    layers.Dense(100, activation=\"sigmoid\"),\n",
        "    layers.Dense(10, activation=\"softmax\")\n",
        "])\n",
        "\n",
        "model_jy.summary()\n",
        "\n",
        "plot_model(model_jy, show_layer_activations=True)"
      ],
      "metadata": {
        "colab": {
          "base_uri": "https://localhost:8080/",
          "height": 684
        },
        "id": "_86lP54Wsy5M",
        "outputId": "5abd252c-8d31-4c74-bd8e-3c394c4abc26"
      },
      "execution_count": 40,
      "outputs": [
        {
          "output_type": "stream",
          "name": "stdout",
          "text": [
            "Model: \"sequential_11\"\n",
            "_________________________________________________________________\n",
            " Layer (type)                Output Shape              Param #   \n",
            "=================================================================\n",
            " dense_23 (Dense)            (None, 50)                39250     \n",
            "                                                                 \n",
            " dense_24 (Dense)            (None, 100)               5100      \n",
            "                                                                 \n",
            " dense_25 (Dense)            (None, 10)                1010      \n",
            "                                                                 \n",
            "=================================================================\n",
            "Total params: 45,360\n",
            "Trainable params: 45,360\n",
            "Non-trainable params: 0\n",
            "_________________________________________________________________\n"
          ]
        },
        {
          "output_type": "execute_result",
          "data": {
            "image/png": "[encoded data removed]",
            "text/plain": [
              "<IPython.core.display.Image object>"
            ]
          },
          "metadata": {},
          "execution_count": 40
        }
      ]
    },
    {
      "cell_type": "markdown",
      "metadata": {
        "id": "dZOYlkit8CTf"
      },
      "source": [
        "# 학습"
      ]
    },
    {
      "cell_type": "markdown",
      "metadata": {
        "id": "feB3nKaa8CTg"
      },
      "source": [
        "학습설정은 [compile](https://www.tensorflow.org/api_docs/python/tf/keras/Sequential#compile) 메서드로 해줍니다.  \n",
        "딥러닝I과 같이 옵티마이저는 SGD, 손실함수는 교차 엔트로피, 평가지표는 accuracy로 하겠습니다.  \n",
        "`sparse_categorical_crossentropy`는 라벨이 정수일때 사용하고 `categorical_crossentropy`는 라벨이 원 핫 인코딩되어 있을때 사용합니다."
      ]
    },
    {
      "cell_type": "code",
      "execution_count": 25,
      "metadata": {
        "id": "3HJWsLH98CTg"
      },
      "outputs": [],
      "source": [
        "model = Sequential([\n",
        "    layers.Dense(50, input_shape=(784,), activation=\"relu\"),\n",
        "    layers.Dense(10, activation=\"softmax\")\n",
        "])\n",
        "\n",
        "model.compile(optimizer=\"SGD\",\n",
        "              loss=\"sparse_categorical_crossentropy\",\n",
        "              metrics=\"accuracy\")"
      ]
    },
    {
      "cell_type": "markdown",
      "metadata": {
        "id": "1mZZt4q58CTg"
      },
      "source": [
        "각 데이터를 flatten하고  0과 1 사이로 리스케일링 해줍시다."
      ]
    },
    {
      "cell_type": "code",
      "execution_count": 26,
      "metadata": {
        "id": "XOcuwncY8CTh"
      },
      "outputs": [],
      "source": [
        "(train_images, train_labels), (test_images, test_labels) = mnist.load_data()\n",
        "\n",
        "train_images = train_images.reshape((60000, 28 * 28))\n",
        "train_images = train_images / 255\n",
        "test_images = test_images.reshape((10000, 28 * 28))\n",
        "test_images = test_images / 255"
      ]
    },
    {
      "cell_type": "markdown",
      "metadata": {
        "id": "_YJ6Jt988CTh"
      },
      "source": [
        "[fit](https://www.tensorflow.org/api_docs/python/tf/keras/Sequential#fit) 메서드로 학습을 시킵니다."
      ]
    },
    {
      "cell_type": "code",
      "execution_count": 27,
      "metadata": {
        "colab": {
          "base_uri": "https://localhost:8080/"
        },
        "id": "4bGKKprQ8CTh",
        "outputId": "b1bf3ac9-c61c-4245-c1b7-5a6cf3faab0e"
      },
      "outputs": [
        {
          "output_type": "stream",
          "name": "stdout",
          "text": [
            "Epoch 1/5\n",
            "469/469 [==============================] - 9s 5ms/step - loss: 1.2756 - accuracy: 0.6720\n",
            "Epoch 2/5\n",
            "469/469 [==============================] - 2s 5ms/step - loss: 0.5940 - accuracy: 0.8506\n",
            "Epoch 3/5\n",
            "469/469 [==============================] - 3s 7ms/step - loss: 0.4629 - accuracy: 0.8769\n",
            "Epoch 4/5\n",
            "469/469 [==============================] - 2s 5ms/step - loss: 0.4064 - accuracy: 0.8887\n",
            "Epoch 5/5\n",
            "469/469 [==============================] - 2s 5ms/step - loss: 0.3731 - accuracy: 0.8967\n"
          ]
        },
        {
          "output_type": "execute_result",
          "data": {
            "text/plain": [
              "<keras.callbacks.History at 0x7d3171fdd4e0>"
            ]
          },
          "metadata": {},
          "execution_count": 27
        }
      ],
      "source": [
        "model.fit(train_images, train_labels, epochs=5, batch_size=128)"
      ]
    },
    {
      "cell_type": "markdown",
      "metadata": {
        "id": "qj9ExvEE8CTi"
      },
      "source": [
        "[딥러닝II](https://youtu.be/s8dzhdJ3fqg?t=2875)에서 공부한 옵티마이저 RMSprop은 초반에 큰 보폭으로 학습이 진행되다가 학습이 많이 진행된 파라미터에 대해서는 보폭이 많이 줄어듭니다.  \n",
        "이때문에 학습 초기에 빠른 학습이 가능합니다.  \n",
        "사실 AdaGrad가 이 아이디어에 기반한 옵티마이저인데 나중에 보폭이 너무 작아져서 학습이 정체되는 문제가 발생합니다.  \n",
        "이를 개량한 옵티마이저가 RMSprop입니다."
      ]
    },
    {
      "cell_type": "code",
      "execution_count": 28,
      "metadata": {
        "colab": {
          "base_uri": "https://localhost:8080/"
        },
        "id": "xpDtAZ_k8CTi",
        "outputId": "caed7736-2b56-490e-e7c6-ff45f60f8dde"
      },
      "outputs": [
        {
          "output_type": "stream",
          "name": "stdout",
          "text": [
            "Epoch 1/5\n",
            "469/469 [==============================] - 3s 4ms/step - loss: 0.4071 - accuracy: 0.8911\n",
            "Epoch 2/5\n",
            "469/469 [==============================] - 2s 4ms/step - loss: 0.2144 - accuracy: 0.9396\n",
            "Epoch 3/5\n",
            "469/469 [==============================] - 1s 3ms/step - loss: 0.1674 - accuracy: 0.9516\n",
            "Epoch 4/5\n",
            "469/469 [==============================] - 1s 3ms/step - loss: 0.1390 - accuracy: 0.9601\n",
            "Epoch 5/5\n",
            "469/469 [==============================] - 1s 3ms/step - loss: 0.1201 - accuracy: 0.9647\n"
          ]
        },
        {
          "output_type": "execute_result",
          "data": {
            "text/plain": [
              "<keras.callbacks.History at 0x7d318c7fe9b0>"
            ]
          },
          "metadata": {},
          "execution_count": 28
        }
      ],
      "source": [
        "model = Sequential([\n",
        "    layers.Dense(50, input_shape=(784,), activation=\"relu\"),\n",
        "    layers.Dense(10, activation=\"softmax\")\n",
        "])\n",
        "\n",
        "model.compile(optimizer=\"RMSprop\",\n",
        "              loss=\"sparse_categorical_crossentropy\",\n",
        "              metrics=\"accuracy\")\n",
        "\n",
        "(train_images, train_labels), (test_images, test_labels) = mnist.load_data()\n",
        "\n",
        "train_images = train_images.reshape((60000, 28 * 28))\n",
        "train_images = train_images / 255\n",
        "test_images = test_images.reshape((10000, 28 * 28))\n",
        "test_images = test_images / 255\n",
        "\n",
        "model.fit(train_images, train_labels, epochs=5, batch_size=128)"
      ]
    },
    {
      "cell_type": "markdown",
      "metadata": {
        "id": "OGmiDEoL8CTi"
      },
      "source": [
        "`to_categorical` 함수를 써서 라벨을 원 핫 인코딩을 할수 있습니다."
      ]
    },
    {
      "cell_type": "code",
      "execution_count": 29,
      "metadata": {
        "colab": {
          "base_uri": "https://localhost:8080/"
        },
        "id": "W8K68bY98CTj",
        "outputId": "9192e434-9c64-4395-e55f-3986f97530b6"
      },
      "outputs": [
        {
          "output_type": "stream",
          "name": "stdout",
          "text": [
            "[0. 0. 0. 0. 0. 1. 0. 0. 0. 0.]\n"
          ]
        }
      ],
      "source": [
        "from tensorflow.keras.utils import to_categorical\n",
        "\n",
        "train_labels_one_hot = to_categorical(train_labels)\n",
        "test_labels_one_hot = to_categorical(test_labels)\n",
        "\n",
        "print(train_labels_one_hot[0])"
      ]
    },
    {
      "cell_type": "markdown",
      "metadata": {
        "id": "gjWhHkjb8CTj"
      },
      "source": [
        "이때는 손실함수 설정을 `categorical_crossentropy`로 해야 합니다."
      ]
    },
    {
      "cell_type": "code",
      "execution_count": 30,
      "metadata": {
        "colab": {
          "base_uri": "https://localhost:8080/"
        },
        "id": "OEOglsiA8CTj",
        "outputId": "94579cd7-23b3-4d65-b497-210959b009cf"
      },
      "outputs": [
        {
          "output_type": "stream",
          "name": "stdout",
          "text": [
            "Epoch 1/5\n",
            "469/469 [==============================] - 2s 3ms/step - loss: 0.4142 - accuracy: 0.8881\n",
            "Epoch 2/5\n",
            "469/469 [==============================] - 2s 4ms/step - loss: 0.2180 - accuracy: 0.9380\n",
            "Epoch 3/5\n",
            "469/469 [==============================] - 2s 4ms/step - loss: 0.1732 - accuracy: 0.9502\n",
            "Epoch 4/5\n",
            "469/469 [==============================] - 1s 3ms/step - loss: 0.1439 - accuracy: 0.9583\n",
            "Epoch 5/5\n",
            "469/469 [==============================] - 1s 3ms/step - loss: 0.1232 - accuracy: 0.9646\n"
          ]
        },
        {
          "output_type": "execute_result",
          "data": {
            "text/plain": [
              "<keras.callbacks.History at 0x7d3189edb610>"
            ]
          },
          "metadata": {},
          "execution_count": 30
        }
      ],
      "source": [
        "model = Sequential([\n",
        "    layers.Dense(50, input_shape=(784,), activation=\"relu\"),\n",
        "    layers.Dense(10, activation=\"softmax\")\n",
        "])\n",
        "\n",
        "model.compile(optimizer=\"RMSprop\",\n",
        "              loss=\"categorical_crossentropy\",\n",
        "              metrics=\"accuracy\")\n",
        "\n",
        "model.fit(train_images, train_labels_one_hot, epochs=5, batch_size=128)"
      ]
    },
    {
      "cell_type": "markdown",
      "metadata": {
        "id": "R7oE-SQK8CTk"
      },
      "source": [
        "[fit](https://www.tensorflow.org/api_docs/python/tf/keras/Sequential#fit) 메서드는 학습 과정이 기록된 객체를 리턴합니다."
      ]
    },
    {
      "cell_type": "code",
      "execution_count": 31,
      "metadata": {
        "colab": {
          "base_uri": "https://localhost:8080/"
        },
        "id": "KxI0O5AJ8CTk",
        "outputId": "167a5ece-1ac9-416f-ecb1-680291c16011"
      },
      "outputs": [
        {
          "output_type": "stream",
          "name": "stdout",
          "text": [
            "Epoch 1/5\n",
            "469/469 [==============================] - 2s 3ms/step - loss: 0.4225 - accuracy: 0.8845\n",
            "Epoch 2/5\n",
            "469/469 [==============================] - 1s 3ms/step - loss: 0.2127 - accuracy: 0.9394\n",
            "Epoch 3/5\n",
            "469/469 [==============================] - 2s 3ms/step - loss: 0.1676 - accuracy: 0.9517\n",
            "Epoch 4/5\n",
            "469/469 [==============================] - 2s 4ms/step - loss: 0.1405 - accuracy: 0.9593\n",
            "Epoch 5/5\n",
            "469/469 [==============================] - 1s 3ms/step - loss: 0.1218 - accuracy: 0.9647\n",
            "\n",
            "\n",
            "{'loss': [0.4225311279296875, 0.21274203062057495, 0.16760565340518951, 0.14046426117420197, 0.12176238745450974], 'accuracy': [0.8845333456993103, 0.939383327960968, 0.9516833424568176, 0.9592833518981934, 0.9646999835968018]}\n"
          ]
        }
      ],
      "source": [
        "model = Sequential([\n",
        "    layers.Dense(50, input_shape=(784,), activation=\"relu\"),\n",
        "    layers.Dense(10, activation=\"softmax\")\n",
        "])\n",
        "\n",
        "model.compile(optimizer=\"RMSprop\",\n",
        "              loss=\"sparse_categorical_crossentropy\",\n",
        "              metrics=\"accuracy\")\n",
        "\n",
        "history = model.fit(train_images, train_labels, epochs=5, batch_size=128)\n",
        "\n",
        "print(\"\\n\")\n",
        "print(history.history)"
      ]
    },
    {
      "cell_type": "markdown",
      "metadata": {
        "id": "-3HisKkC8CTk"
      },
      "source": [
        "딥러닝II에서 우리는 여러가지 옵티마이저를 공부했습니다.  \n",
        "우리가 공부했던 SGD, Momentum, Nesterov, Adagrad, RMSprop, Adam는 모두 케라스에 구현되어 있습니다.  \n",
        "[tf.keras.optimizers](https://www.tensorflow.org/api_docs/python/tf/keras/optimizers)를 참고하세요.  \n",
        "옵티마이저에는 설정해야할 여러 하이퍼파라미터들이 있습니다.  \n",
        "Momentum은 관성계수, RMSprop은 forgetting factor (decay rate), Adam은 편향을 보정해주는 $\\beta_1$, $\\beta_2$가 있죠.  \n",
        "물론 학습률은 가장 기본적인 하이퍼파라미터입니다.  \n",
        "위에서는 디폴트 값을 사용했습니다.  \n",
        "예를 들어 SGD의 학습률은 디폴트 값이 0.01입니다.  \n",
        "본인이 원하는 값을 직접 지정하려면 다음과 같이 합니다."
      ]
    },
    {
      "cell_type": "code",
      "execution_count": 32,
      "metadata": {
        "colab": {
          "base_uri": "https://localhost:8080/"
        },
        "id": "TER7iTgQ8CTl",
        "outputId": "f272a1c4-e4c4-408a-a967-9ff971924b88"
      },
      "outputs": [
        {
          "output_type": "stream",
          "name": "stdout",
          "text": [
            "Epoch 1/5\n",
            "469/469 [==============================] - 2s 3ms/step - loss: 0.5416 - accuracy: 0.8303\n",
            "Epoch 2/5\n",
            "469/469 [==============================] - 1s 3ms/step - loss: 0.2414 - accuracy: 0.9279\n",
            "Epoch 3/5\n",
            "469/469 [==============================] - 1s 3ms/step - loss: 0.1961 - accuracy: 0.9413\n",
            "Epoch 4/5\n",
            "469/469 [==============================] - 2s 3ms/step - loss: 0.1744 - accuracy: 0.9487\n",
            "Epoch 5/5\n",
            "469/469 [==============================] - 2s 4ms/step - loss: 0.1583 - accuracy: 0.9524\n"
          ]
        },
        {
          "output_type": "execute_result",
          "data": {
            "text/plain": [
              "<keras.callbacks.History at 0x7d318c5cb6d0>"
            ]
          },
          "metadata": {},
          "execution_count": 32
        }
      ],
      "source": [
        "model = keras.Sequential([\n",
        "    layers.Dense(50, input_shape=(784,), activation=\"relu\"),\n",
        "    layers.Dense(10, activation=\"softmax\")\n",
        "])\n",
        "\n",
        "optimizer = keras.optimizers.SGD(learning_rate=1.)\n",
        "\n",
        "model.compile(optimizer=optimizer,\n",
        "              loss=\"sparse_categorical_crossentropy\",\n",
        "              metrics=\"accuracy\")\n",
        "\n",
        "model.fit(train_images, train_labels, epochs=5, batch_size=128)"
      ]
    },
    {
      "cell_type": "markdown",
      "source": [
        "**[실습2] 실습1 문제에서 본인 이니셜을 딴 신경망을 학습시키시오. 학습횟수와 옵티마이저는 알아서 선택하시오.**"
      ],
      "metadata": {
        "id": "nlq_ZGl_KAII"
      }
    },
    {
      "cell_type": "code",
      "source": [
        "model_jy.compile(optimizer='Adam',\n",
        "              loss=\"sparse_categorical_crossentropy\",\n",
        "              metrics=\"accuracy\")\n",
        "\n",
        "model_jy.fit(train_images, train_labels, epochs=15, batch_size=128)"
      ],
      "metadata": {
        "colab": {
          "base_uri": "https://localhost:8080/"
        },
        "id": "CE12ZHHnKB_M",
        "outputId": "ebac7cb4-f4e9-4801-aac7-43c6e6587c3d"
      },
      "execution_count": 43,
      "outputs": [
        {
          "output_type": "stream",
          "name": "stdout",
          "text": [
            "Epoch 1/15\n",
            "469/469 [==============================] - 3s 4ms/step - loss: 0.0589 - accuracy: 0.9830\n",
            "Epoch 2/15\n",
            "469/469 [==============================] - 2s 3ms/step - loss: 0.0530 - accuracy: 0.9844\n",
            "Epoch 3/15\n",
            "469/469 [==============================] - 2s 3ms/step - loss: 0.0491 - accuracy: 0.9862\n",
            "Epoch 4/15\n",
            "469/469 [==============================] - 2s 3ms/step - loss: 0.0450 - accuracy: 0.9872\n",
            "Epoch 5/15\n",
            "469/469 [==============================] - 2s 3ms/step - loss: 0.0414 - accuracy: 0.9885\n",
            "Epoch 6/15\n",
            "469/469 [==============================] - 2s 3ms/step - loss: 0.0378 - accuracy: 0.9901\n",
            "Epoch 7/15\n",
            "469/469 [==============================] - 2s 4ms/step - loss: 0.0351 - accuracy: 0.9908\n",
            "Epoch 8/15\n",
            "469/469 [==============================] - 2s 5ms/step - loss: 0.0321 - accuracy: 0.9919\n",
            "Epoch 9/15\n",
            "469/469 [==============================] - 2s 3ms/step - loss: 0.0299 - accuracy: 0.9926\n",
            "Epoch 10/15\n",
            "469/469 [==============================] - 2s 3ms/step - loss: 0.0276 - accuracy: 0.9931\n",
            "Epoch 11/15\n",
            "469/469 [==============================] - 2s 3ms/step - loss: 0.0254 - accuracy: 0.9939\n",
            "Epoch 12/15\n",
            "469/469 [==============================] - 1s 3ms/step - loss: 0.0238 - accuracy: 0.9941\n",
            "Epoch 13/15\n",
            "469/469 [==============================] - 2s 3ms/step - loss: 0.0214 - accuracy: 0.9950\n",
            "Epoch 14/15\n",
            "469/469 [==============================] - 2s 3ms/step - loss: 0.0195 - accuracy: 0.9956\n",
            "Epoch 15/15\n",
            "469/469 [==============================] - 2s 4ms/step - loss: 0.0180 - accuracy: 0.9963\n"
          ]
        },
        {
          "output_type": "execute_result",
          "data": {
            "text/plain": [
              "<keras.callbacks.History at 0x7d30e0100460>"
            ]
          },
          "metadata": {},
          "execution_count": 43
        }
      ]
    },
    {
      "cell_type": "markdown",
      "metadata": {
        "id": "jHUk4nS48CTl"
      },
      "source": [
        "# 평가 및 예측"
      ]
    },
    {
      "cell_type": "markdown",
      "metadata": {
        "id": "MoWKcv6q8CTm"
      },
      "source": [
        "[evaluate](https://www.tensorflow.org/api_docs/python/tf/keras/Sequential#evaluate) 메서드와 테스트 데이터로 모델의 성능을 평가해보죠.  \n",
        "케라스 창시자에게 배우는 딥러닝 코드에서는 은닉층의 뉴런수를 512개로 두텁게 만들었고 옵티마이저로 RMSprop을 사용했습니다."
      ]
    },
    {
      "cell_type": "code",
      "execution_count": 33,
      "metadata": {
        "id": "RszyMnLr8CTm",
        "colab": {
          "base_uri": "https://localhost:8080/"
        },
        "outputId": "ec1d4956-ea74-48d0-ebdb-e5766535fa98"
      },
      "outputs": [
        {
          "output_type": "stream",
          "name": "stdout",
          "text": [
            "Epoch 1/5\n",
            "469/469 [==============================] - 2s 3ms/step - loss: 0.2658 - accuracy: 0.9235\n",
            "Epoch 2/5\n",
            "469/469 [==============================] - 1s 3ms/step - loss: 0.1087 - accuracy: 0.9676\n",
            "Epoch 3/5\n",
            "469/469 [==============================] - 1s 3ms/step - loss: 0.0704 - accuracy: 0.9787\n",
            "Epoch 4/5\n",
            "469/469 [==============================] - 1s 3ms/step - loss: 0.0518 - accuracy: 0.9845\n",
            "Epoch 5/5\n",
            "469/469 [==============================] - 1s 3ms/step - loss: 0.0386 - accuracy: 0.9884\n",
            "313/313 [==============================] - 1s 2ms/step - loss: 0.0685 - accuracy: 0.9787\n",
            "\n",
            "\n",
            "test_acc: 0.9786999821662903\n"
          ]
        }
      ],
      "source": [
        "model = keras.Sequential([\n",
        "    layers.Dense(512, input_shape=(784,), activation=\"relu\"),\n",
        "    layers.Dense(10, activation=\"softmax\")\n",
        "])\n",
        "\n",
        "model.compile(optimizer=\"RMSprop\",\n",
        "              loss=\"sparse_categorical_crossentropy\",\n",
        "              metrics=\"accuracy\")\n",
        "\n",
        "model.fit(train_images, train_labels, epochs=5, batch_size=128)\n",
        "\n",
        "test_loss, test_acc = model.evaluate(test_images, test_labels)\n",
        "\n",
        "print(\"\\n\")\n",
        "print(f\"test_acc: {test_acc}\")"
      ]
    },
    {
      "cell_type": "markdown",
      "metadata": {
        "id": "c8ZmVnQQ8CTm"
      },
      "source": [
        "[predict](https://www.tensorflow.org/api_docs/python/tf/keras/Sequential#predict) 메서드로 예측을 할수 있습니다.\n",
        "확률분포를 출력합니다."
      ]
    },
    {
      "cell_type": "code",
      "execution_count": 34,
      "metadata": {
        "id": "zmaOTSBs8CTn",
        "colab": {
          "base_uri": "https://localhost:8080/"
        },
        "outputId": "d97ba4da-b43c-49cb-fa6a-4ab64fd06843"
      },
      "outputs": [
        {
          "output_type": "stream",
          "name": "stdout",
          "text": [
            "313/313 [==============================] - 1s 2ms/step\n",
            "[4.2261632e-08 4.8815596e-09 1.1645599e-05 6.2385458e-05 1.3254991e-11 9.2156419e-08 1.0108205e-11 9.9992478e-01 2.8763489e-07 8.1770474e-07]\n"
          ]
        }
      ],
      "source": [
        "predictions = model.predict(test_images)\n",
        "print(predictions[0])"
      ]
    },
    {
      "cell_type": "markdown",
      "metadata": {
        "id": "374G7iZ08CTn"
      },
      "source": [
        "맨 처음 등장하는 테스트 이미지를 확신에 차서 7이라고 대답했는데 맞았네요."
      ]
    },
    {
      "cell_type": "code",
      "execution_count": 35,
      "metadata": {
        "id": "4ZdTVTj78CTn",
        "colab": {
          "base_uri": "https://localhost:8080/",
          "height": 406
        },
        "outputId": "6099c51c-2585-47ba-d008-b807b3a3dfeb"
      },
      "outputs": [
        {
          "output_type": "display_data",
          "data": {
            "text/plain": [
              "<Figure size 640x480 with 1 Axes>"
            ],
            "image/png": "[encoded data removed]"
          },
          "metadata": {}
        }
      ],
      "source": [
        "import matplotlib.pyplot as plt\n",
        "\n",
        "plt.axis(\"off\")\n",
        "plt.imshow(test_images[0].reshape(28,28), cmap=plt.cm.gray)\n",
        "plt.show()"
      ]
    },
    {
      "cell_type": "markdown",
      "metadata": {
        "id": "qG1SuLRb8CTo"
      },
      "source": [
        "[딥러닝I](https://youtu.be/XgnYuN4JeQM?t=5402)에서 공부한 confusion matrix입니다."
      ]
    },
    {
      "cell_type": "code",
      "execution_count": 36,
      "metadata": {
        "id": "kBkZpOmp8CTo",
        "colab": {
          "base_uri": "https://localhost:8080/"
        },
        "outputId": "e4dad0a8-4a4b-47ab-8a7b-0723d99d41b5"
      },
      "outputs": [
        {
          "output_type": "stream",
          "name": "stdout",
          "text": [
            "[[ 964    0    1    0    2    1    8    1    3    0]\n",
            " [   0 1117    4    1    0    1    2    3    7    0]\n",
            " [   3    0 1008    4    4    0    4    4    5    0]\n",
            " [   0    0    4  994    0    5    0    2    3    2]\n",
            " [   0    0    3    1  967    0    4    1    1    5]\n",
            " [   2    0    0    4    1  871    8    1    2    3]\n",
            " [   2    2    1    1    3    2  947    0    0    0]\n",
            " [   1    0   12    3    2    0    0  998    6    6]\n",
            " [   2    0    2   10    4    1    5    3  947    0]\n",
            " [   2    2    0    5   13    3    1    4    5  974]]\n"
          ]
        }
      ],
      "source": [
        "confusion = np.zeros((10,10), dtype=int)\n",
        "\n",
        "for k in range(len(test_images)):\n",
        "    i = test_labels[k]\n",
        "    j = np.argmax(predictions[k])\n",
        "    confusion[i][j] += 1\n",
        "\n",
        "print(confusion)"
      ]
    },
    {
      "cell_type": "markdown",
      "metadata": {
        "id": "BynPQDYB8CTo"
      },
      "source": [
        "머신러닝 시간에 배운 싸이킷런을 사용하면 confusion matrix를 쉽게 얻을 수 있습니다."
      ]
    },
    {
      "cell_type": "code",
      "execution_count": 37,
      "metadata": {
        "id": "lWMtHwO68CTp",
        "colab": {
          "base_uri": "https://localhost:8080/"
        },
        "outputId": "08fb55bc-c85e-424a-f509-26edcc863804"
      },
      "outputs": [
        {
          "output_type": "stream",
          "name": "stdout",
          "text": [
            "[[ 964    0    1    0    2    1    8    1    3    0]\n",
            " [   0 1117    4    1    0    1    2    3    7    0]\n",
            " [   3    0 1008    4    4    0    4    4    5    0]\n",
            " [   0    0    4  994    0    5    0    2    3    2]\n",
            " [   0    0    3    1  967    0    4    1    1    5]\n",
            " [   2    0    0    4    1  871    8    1    2    3]\n",
            " [   2    2    1    1    3    2  947    0    0    0]\n",
            " [   1    0   12    3    2    0    0  998    6    6]\n",
            " [   2    0    2   10    4    1    5    3  947    0]\n",
            " [   2    2    0    5   13    3    1    4    5  974]]\n"
          ]
        }
      ],
      "source": [
        "from sklearn.metrics import confusion_matrix\n",
        "\n",
        "confusion = confusion_matrix(test_labels, np.argmax(predictions, axis=1))\n",
        "print(confusion)"
      ]
    },
    {
      "cell_type": "markdown",
      "metadata": {
        "id": "Yq8IdPoO8CTp"
      },
      "source": [
        "시각화 시간에 배운 seaborn을 이용해서 멋지게 표현해보죠."
      ]
    },
    {
      "cell_type": "code",
      "execution_count": 38,
      "metadata": {
        "id": "506tiOnB8CTp",
        "colab": {
          "base_uri": "https://localhost:8080/",
          "height": 696
        },
        "outputId": "77ce6c5e-8c37-4456-ec1f-60f6cde628b0"
      },
      "outputs": [
        {
          "output_type": "display_data",
          "data": {
            "text/plain": [
              "<Figure size 800x800 with 2 Axes>"
            ],
            "image/png": "[encoded data removed]"
          },
          "metadata": {}
        }
      ],
      "source": [
        "import seaborn as sns\n",
        "\n",
        "plt.figure(figsize=(8,8))\n",
        "sns.heatmap(confusion, annot=True, fmt='d', cmap='Blues')\n",
        "plt.xlabel(\"Predicted Label\")\n",
        "plt.ylabel(\"True Label\")\n",
        "plt.show()"
      ]
    },
    {
      "cell_type": "markdown",
      "metadata": {
        "id": "73zaENdb8CTp"
      },
      "source": [
        "싸이킷런을 사용해서 머신러닝 시간에 배운 Precision, Recall, F1-Score를 출력해보죠.  \n",
        "- TP : True Posive, FP : False Positive, TN : True Negative, FN : False Negative\n",
        "- $\\rm Precision = {TP \\over TP+FP}$\n",
        "- $\\rm Recall = {TP \\over TP+FN}$\n",
        "- $\\rm {1 \\over F1-Score} = {1 \\over 2}\\left({1 \\over Precision} + {1 \\over F1-Score}\\right)$\n",
        "- support : 라벨 개수"
      ]
    },
    {
      "cell_type": "code",
      "execution_count": 39,
      "metadata": {
        "id": "G-6rCeso8CTq",
        "colab": {
          "base_uri": "https://localhost:8080/"
        },
        "outputId": "d8a27e05-eb32-449a-f9b8-addd733a89bd"
      },
      "outputs": [
        {
          "output_type": "stream",
          "name": "stdout",
          "text": [
            "              precision    recall  f1-score   support\n",
            "\n",
            "           0       0.99      0.98      0.99       980\n",
            "           1       1.00      0.98      0.99      1135\n",
            "           2       0.97      0.98      0.98      1032\n",
            "           3       0.97      0.98      0.98      1010\n",
            "           4       0.97      0.98      0.98       982\n",
            "           5       0.99      0.98      0.98       892\n",
            "           6       0.97      0.99      0.98       958\n",
            "           7       0.98      0.97      0.98      1028\n",
            "           8       0.97      0.97      0.97       974\n",
            "           9       0.98      0.97      0.97      1009\n",
            "\n",
            "    accuracy                           0.98     10000\n",
            "   macro avg       0.98      0.98      0.98     10000\n",
            "weighted avg       0.98      0.98      0.98     10000\n",
            "\n"
          ]
        }
      ],
      "source": [
        "from sklearn.metrics import classification_report\n",
        "\n",
        "print(classification_report(test_labels, np.argmax(predictions, axis=1)))"
      ]
    }
  ],
  "metadata": {
    "accelerator": "GPU",
    "colab": {
      "provenance": [],
      "toc_visible": true
    },
    "kernelspec": {
      "display_name": "Python 3",
      "name": "python3"
    },
    "language_info": {
      "codemirror_mode": {
        "name": "ipython",
        "version": 3
      },
      "file_extension": ".py",
      "mimetype": "text/x-python",
      "name": "python",
      "nbconvert_exporter": "python",
      "pygments_lexer": "ipython3",
      "version": "3.9.12"
    }
  },
  "nbformat": 4,
  "nbformat_minor": 0
}
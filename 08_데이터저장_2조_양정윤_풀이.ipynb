{
 "cells": [
  {
   "cell_type": "code",
   "execution_count": 1,
   "metadata": {},
   "outputs": [
    {
     "data": {
      "text/html": [
       "<style>.container { width:100% !important; }</style>"
      ],
      "text/plain": [
       "<IPython.core.display.HTML object>"
      ]
     },
     "metadata": {},
     "output_type": "display_data"
    },
    {
     "data": {
      "text/html": [
       "<style>\n",
       "div.CodeMirror, div.CodeMirror pre, div.CodeMirror-code,\n",
       "div.output_area pre, div.output_wrapper pre,\n",
       ".text_cell_render, .text_cell_render *\n",
       "{ font-family: Consolas; font-size: 15pt; line-height: 140%;}\n",
       "</style>"
      ],
      "text/plain": [
       "<IPython.core.display.HTML object>"
      ]
     },
     "metadata": {},
     "output_type": "display_data"
    }
   ],
   "source": [
    "from IPython.display import display, HTML, Markdown\n",
    "display(HTML(\"<style>.container { width:100% !important; }</style>\"))\n",
    "display(HTML(\"\"\"<style>\n",
    "div.CodeMirror, div.CodeMirror pre, div.CodeMirror-code,\n",
    "div.output_area pre, div.output_wrapper pre,\n",
    ".text_cell_render, .text_cell_render *\n",
    "{ font-family: Consolas; font-size: 15pt; line-height: 140%;}\n",
    "</style>\"\"\"))"
   ]
  },
  {
   "cell_type": "markdown",
   "metadata": {},
   "source": [
    "# 제출 방법\n",
    "\n",
    "1. 파일 이름에서 '이름'을 자신의 이름으로 고쳐서 제출하시오.\n",
    "2. 제출 후 파일을 삭제하시오."
   ]
  },
  {
   "cell_type": "code",
   "execution_count": 3,
   "metadata": {},
   "outputs": [
    {
     "name": "stdout",
     "output_type": "stream",
     "text": [
      "Requirement already satisfied: openpyxl in c:\\programdata\\anaconda3\\lib\\site-packages (2.6.2)\n",
      "Requirement already satisfied: et-xmlfile in c:\\programdata\\anaconda3\\lib\\site-packages (from openpyxl) (1.0.1)\n",
      "Requirement already satisfied: jdcal in c:\\programdata\\anaconda3\\lib\\site-packages (from openpyxl) (1.4.1)\n"
     ]
    },
    {
     "name": "stderr",
     "output_type": "stream",
     "text": [
      "WARNING: Ignoring invalid distribution - (c:\\programdata\\anaconda3\\lib\\site-packages)\n",
      "WARNING: Ignoring invalid distribution -eaborn (c:\\programdata\\anaconda3\\lib\\site-packages)\n",
      "WARNING: Ignoring invalid distribution -arkupsafe (c:\\programdata\\anaconda3\\lib\\site-packages)\n",
      "WARNING: Ignoring invalid distribution - (c:\\programdata\\anaconda3\\lib\\site-packages)\n",
      "WARNING: Ignoring invalid distribution -eaborn (c:\\programdata\\anaconda3\\lib\\site-packages)\n",
      "WARNING: Ignoring invalid distribution -arkupsafe (c:\\programdata\\anaconda3\\lib\\site-packages)\n",
      "WARNING: Ignoring invalid distribution - (c:\\programdata\\anaconda3\\lib\\site-packages)\n",
      "WARNING: Ignoring invalid distribution -eaborn (c:\\programdata\\anaconda3\\lib\\site-packages)\n",
      "WARNING: Ignoring invalid distribution -arkupsafe (c:\\programdata\\anaconda3\\lib\\site-packages)\n",
      "WARNING: Ignoring invalid distribution - (c:\\programdata\\anaconda3\\lib\\site-packages)\n",
      "WARNING: Ignoring invalid distribution -eaborn (c:\\programdata\\anaconda3\\lib\\site-packages)\n",
      "WARNING: Ignoring invalid distribution -arkupsafe (c:\\programdata\\anaconda3\\lib\\site-packages)\n",
      "WARNING: Ignoring invalid distribution - (c:\\programdata\\anaconda3\\lib\\site-packages)\n",
      "WARNING: Ignoring invalid distribution -eaborn (c:\\programdata\\anaconda3\\lib\\site-packages)\n",
      "WARNING: Ignoring invalid distribution -arkupsafe (c:\\programdata\\anaconda3\\lib\\site-packages)\n",
      "WARNING: Ignoring invalid distribution - (c:\\programdata\\anaconda3\\lib\\site-packages)\n",
      "WARNING: Ignoring invalid distribution -eaborn (c:\\programdata\\anaconda3\\lib\\site-packages)\n",
      "WARNING: Ignoring invalid distribution -arkupsafe (c:\\programdata\\anaconda3\\lib\\site-packages)\n",
      "WARNING: You are using pip version 21.1.1; however, version 23.1.2 is available.\n",
      "You should consider upgrading via the 'c:\\programdata\\anaconda3\\python.exe -m pip install --upgrade pip' command.\n"
     ]
    }
   ],
   "source": [
    "!pip install openpyxl"
   ]
  },
  {
   "cell_type": "markdown",
   "metadata": {},
   "source": [
    "# 문제1\n",
    "\n",
    "아래 url에서 keyword를 검색하여 나온 결과를 아래와 같이 출력해 주는 함수를 구현하시오.\n",
    "\n",
    "- 추출해야 하는 정보\n",
    "    1. 회사이름\n",
    "    2. 공고 제목\n",
    "    3. 공고 페이지 링크\n",
    "\n",
    "\n",
    "https://www.jobkorea.co.kr/\n",
    "\n",
    "\n",
    "- parameter:\n",
    "    - keyword: 검색하고 싶은 문자열\n",
    "- return: 없음\n",
    "\n",
    "결과는 서버 상황에 따라 달라 질 수 있음.\n",
    "\n",
    "***결과*** \n",
    "\n",
    "```\n",
    "===JOB KOREA 검색: python===\n",
    "1. ㈜인라이플:[주4.5일근무] Python 개발직무 경력 채용\n",
    "https://www.jobkorea.co.kr/Recruit/GI_Read/41836669?Oem_Code=C1&logpath=1&stext=python&listno=1\n",
    "2. ㈜넥슨:[인텔리전스랩스] 플랫폼쉴드팀 백엔드 개발자 (Python/Go)\n",
    "https://www.jobkorea.co.kr/Recruit/GI_Read/41735692?Oem_Code=C1&logpath=1&stext=python&listno=2\n",
    "3. ㈜와이비에스:빅데이터 및 인공지능(Python 프로그램) 분석가 채용 공고\n",
    "https://www.jobkorea.co.kr/Recruit/GI_Read/41817879?Oem_Code=C1&logpath=1&stext=python&listno=3\n",
    "4. ㈜지니:[공개채용] (주)지니 ICT본부(Python 개발자) 공개채용\n",
    "https://www.jobkorea.co.kr/Recruit/GI_Read/41814583?Oem_Code=C1&logpath=1&stext=python&listno=4\n",
    "5. ㈜이글루코퍼레이션:연구소 IT개발(서버/백엔드/프론트엔드/Python/웹 퍼블리셔/정보보호인증) 채용\n",
    "https://www.jobkorea.co.kr/Recruit/GI_Read/41760914?Oem_Code=C1&logpath=1&stext=python&listno=5\n",
    "```"
   ]
  },
  {
   "cell_type": "code",
   "execution_count": 4,
   "metadata": {
    "ExecuteTime": {
     "end_time": "2022-05-08T11:18:15.557784Z",
     "start_time": "2022-05-08T11:18:13.595145Z"
    }
   },
   "outputs": [
    {
     "name": "stdout",
     "output_type": "stream",
     "text": [
      "===JOB KOREA 검색: python===\n",
      "1. 통로이미지㈜:[정규/경력] 클립아트코리아 웹 개발자 채용 (Python / PHP)\n",
      "https://www.jobkorea.co.kr/Recruit/GI_Read/42123867?Oem_Code=C1&logpath=1&stext=python&listno=1\n",
      "2. ㈜넥슨:[인텔리전스랩스] 탐지응용팀 백엔드 개발자 (Python/Go)\n",
      "https://www.jobkorea.co.kr/Recruit/GI_Read/42256582?Oem_Code=C1&logpath=1&stext=python&listno=2\n",
      "3. ㈜넥슨:[인텔리전스랩스] 부스트파트 백엔드 개발자 (Python/OpenSearch)\n",
      "https://www.jobkorea.co.kr/Recruit/GI_Read/42001533?Oem_Code=C1&logpath=1&stext=python&listno=3\n",
      "4. ㈜비바리퍼블리카:[토스] Python Developer Assistant (계약직)\n",
      "https://www.jobkorea.co.kr/Recruit/GI_Read/41916416?Oem_Code=C1&logpath=1&stext=python&listno=4\n",
      "5. ㈜인라이플:[주4.5일근무] Python 개발직무 경력 채용\n",
      "https://www.jobkorea.co.kr/Recruit/GI_Read/41836669?Oem_Code=C1&logpath=1&stext=python&listno=5\n"
     ]
    }
   ],
   "source": [
    "import requests as rq\n",
    "from bs4 import BeautifulSoup\n",
    "from urllib.parse import urljoin\n",
    "from urllib.parse import quote\n",
    "\n",
    "def job_crawling(keyword):\n",
    "    print(f\"===JOB KOREA 검색: {keyword}===\")\n",
    "    url_encoded_keyword = quote(keyword)\n",
    "    url = f\"https://www.jobkorea.co.kr/Search/?stext={url_encoded_keyword}\"\n",
    "    #print(url)\n",
    "    res = rq.get(url)\n",
    "    soup = BeautifulSoup(res.text, 'lxml')\n",
    "    #tags = soup.select('.recruit-info .post', limit=5)\n",
    "    tags = soup.select('.post', limit=5) # class가 post인 태그\n",
    "\n",
    "    for i, t in enumerate(tags, 1):\n",
    "        company = t.select_one('.post-list-corp a').text.strip()\n",
    "        title = t.select_one('.post-list-info a').text.strip()\n",
    "        link = urljoin(url, t.select_one('.post-list-info a').get('href'))\n",
    "        print(f\"{i}. {company}:{title}\")\n",
    "        print(link)\n",
    "\n",
    "\n",
    "job_crawling('python')\n",
    "#print()"
   ]
  },
  {
   "attachments": {
    "image-2.png": {
     "image/png": "[encoded data removed]"
    }
   },
   "cell_type": "markdown",
   "metadata": {},
   "source": [
    "# 문제 2\n",
    "\n",
    "jobkorea 검색결과를 엑셀파일로 저장하는 함수를 작성하시오.\n",
    "\n",
    "1. 엑셀 형식으로 검색결과를 저장하는 함수를 만드시오.\n",
    "1. 엑셀 파일은 헤더를 가지고 있다.(```'번호', 회사', '제목', '링크'```)\n",
    "\n",
    "***결과***\n",
    "![image-2.png](attachment:image-2.png)"
   ]
  },
  {
   "cell_type": "code",
   "execution_count": 5,
   "metadata": {
    "ExecuteTime": {
     "end_time": "2022-05-09T01:01:26.460884Z",
     "start_time": "2022-05-09T01:01:25.512860Z"
    },
    "scrolled": false
   },
   "outputs": [],
   "source": [
    "import requests as rq\n",
    "from bs4 import BeautifulSoup\n",
    "from urllib.parse import urljoin\n",
    "from urllib.parse import quote\n",
    "import openpyxl\n",
    "\n",
    "def job_crawling_xlsx(keyword, xlsx_file):\n",
    "    #print(f\"===JOB KOREA 검색: {keyword}===\")\n",
    "    url_encoded_keyword = quote(keyword)\n",
    "    url = f\"https://www.jobkorea.co.kr/Search/?stext={url_encoded_keyword}\"\n",
    "    #print(url)\n",
    "    res = rq.get(url)\n",
    "    soup = BeautifulSoup(res.text, 'lxml')\n",
    "    tags = soup.select('.recruit-info .post', limit=5)\n",
    "    \n",
    "    wb = openpyxl.Workbook()\n",
    "    sheet = wb.active\n",
    "    \n",
    "    header = ['번호', '회사', '제목', '링크']\n",
    "    sheet.append(header)\n",
    "\n",
    "    for i, t in enumerate(tags, 1):\n",
    "        company = t.select_one('.post-list-corp a').text.strip()\n",
    "        title = t.select_one('.post-list-info a').text.strip()\n",
    "        link = urljoin(url, t.select_one('.post-list-info a').get('href'))\n",
    "        #print(f\"{i}. {company}:{title}\")\n",
    "        #print(link)\n",
    "        row = [i, company, title, link]\n",
    "        sheet.append(row)\n",
    "    wb.save(xlsx_file)\n",
    "\n",
    "# 아래는 수정하지 마시오.\n",
    "job_crawling_xlsx(\"인공지능\", 'jobs.xlsx') # 상대경로\n"
   ]
  },
  {
   "cell_type": "code",
   "execution_count": null,
   "metadata": {},
   "outputs": [],
   "source": []
  }
 ],
 "metadata": {
  "kernelspec": {
   "display_name": "Python 3",
   "language": "python",
   "name": "python3"
  },
  "language_info": {
   "codemirror_mode": {
    "name": "ipython",
    "version": 3
   },
   "file_extension": ".py",
   "mimetype": "text/x-python",
   "name": "python",
   "nbconvert_exporter": "python",
   "pygments_lexer": "ipython3",
   "version": "3.7.3"
  },
  "toc": {
   "base_numbering": 1,
   "nav_menu": {},
   "number_sections": true,
   "sideBar": true,
   "skip_h1_title": false,
   "title_cell": "Table of Contents",
   "title_sidebar": "Contents",
   "toc_cell": false,
   "toc_position": {},
   "toc_section_display": true,
   "toc_window_display": false
  },
  "varInspector": {
   "cols": {
    "lenName": 16,
    "lenType": 16,
    "lenVar": 40
   },
   "kernels_config": {
    "python": {
     "delete_cmd_postfix": "",
     "delete_cmd_prefix": "del ",
     "library": "var_list.py",
     "varRefreshCmd": "print(var_dic_list())"
    },
    "r": {
     "delete_cmd_postfix": ") ",
     "delete_cmd_prefix": "rm(",
     "library": "var_list.r",
     "varRefreshCmd": "cat(var_dic_list()) "
    }
   },
   "types_to_exclude": [
    "module",
    "function",
    "builtin_function_or_method",
    "instance",
    "_Feature"
   ],
   "window_display": false
  }
 },
 "nbformat": 4,
 "nbformat_minor": 2
}
